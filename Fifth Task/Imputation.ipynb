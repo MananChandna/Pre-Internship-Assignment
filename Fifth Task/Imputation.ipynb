{
  "nbformat": 4,
  "nbformat_minor": 0,
  "metadata": {
    "colab": {
      "provenance": []
    },
    "kernelspec": {
      "name": "python3",
      "display_name": "Python 3"
    },
    "language_info": {
      "name": "python"
    }
  },
  "cells": [
    {
      "cell_type": "markdown",
      "source": [
        "**1: Importing Libraries**"
      ],
      "metadata": {
        "id": "T7KKXYKz4zgV"
      }
    },
    {
      "cell_type": "code",
      "source": [
        "import pandas as pd\n",
        "import io"
      ],
      "metadata": {
        "id": "ZCJ5R5iEx4j0"
      },
      "execution_count": 1,
      "outputs": []
    },
    {
      "cell_type": "markdown",
      "source": [
        "**2: Loading the Dataset**"
      ],
      "metadata": {
        "id": "B_t9uY4g43r5"
      }
    },
    {
      "cell_type": "code",
      "source": [
        "df = pd.read_csv('/content/covid_worldwide.csv')"
      ],
      "metadata": {
        "id": "u05Ssp77x5Js"
      },
      "execution_count": 2,
      "outputs": []
    },
    {
      "cell_type": "markdown",
      "source": [
        "**3: Converting Numerical Columns to Numeric Type**"
      ],
      "metadata": {
        "id": "reDbkz9T5GNY"
      }
    },
    {
      "cell_type": "code",
      "source": [
        "numerical_cols = ['Total Cases', 'Total Deaths', 'Total Recovered', 'Active Cases', 'Total Test', 'Population']\n",
        "for col in numerical_cols:\n",
        "\n",
        "    df[col] = df[col].replace({',': ''}, regex=True)\n",
        "    df[col] = pd.to_numeric(df[col], errors='coerce')"
      ],
      "metadata": {
        "id": "Hx4ZBAjpyArz"
      },
      "execution_count": 3,
      "outputs": []
    },
    {
      "cell_type": "markdown",
      "source": [
        "Explanation:\n",
        "\n",
        "*   This cell cleans numerical columns to ensure they are in a proper numeric format (float or integer) for calculations.\n",
        "\n"
      ],
      "metadata": {
        "id": "Ou0m6XaA5HkZ"
      }
    },
    {
      "cell_type": "markdown",
      "source": [
        "------"
      ],
      "metadata": {
        "id": "zGbKm2lo5bW0"
      }
    },
    {
      "cell_type": "markdown",
      "source": [
        "**4: Dropping Rows with Missing Critical Data**"
      ],
      "metadata": {
        "id": "c5iKSA0z5U5O"
      }
    },
    {
      "cell_type": "code",
      "source": [
        "df = df.dropna(subset=['Country', 'Total Cases'])"
      ],
      "metadata": {
        "id": "pEdEP0zpyE4S"
      },
      "execution_count": 4,
      "outputs": []
    },
    {
      "cell_type": "markdown",
      "source": [
        "Explanation:\n",
        "\n",
        "*  This cell removes rows where the Country or Total Cases columns have missing values (NaN).\n",
        "*   Reason: These columns are likely critical for analysis (e.g., Country identifies the data point, and Total Cases is a key metric). Rows missing these values are incomplete and unreliable.\n",
        "\n",
        "*   The dropna() function with subset ensures only rows with NaN in these specific columns are dropped, preserving as much data as possible.\n",
        "\n",
        "*   The result is a DataFrame with no missing values in Country or Total Cases.\n",
        "\n",
        "\n",
        "\n"
      ],
      "metadata": {
        "id": "1F7iHs6N5hVy"
      }
    },
    {
      "cell_type": "markdown",
      "source": [
        "-----"
      ],
      "metadata": {
        "id": "eKgtYIJ351-_"
      }
    },
    {
      "cell_type": "markdown",
      "source": [
        "**5: Imputing Missing Values for Total Recovered or Active Cases**"
      ],
      "metadata": {
        "id": "dN0StMsE53nQ"
      }
    },
    {
      "cell_type": "code",
      "source": [
        "for idx, row in df.iterrows():\n",
        "    if pd.isna(row['Total Recovered']) or pd.isna(row['Active Cases']):\n",
        "        if not pd.isna(row['Total Cases']) and not pd.isna(row['Total Deaths']):\n",
        "\n",
        "            if not pd.isna(row['Total Recovered']):\n",
        "                df.at[idx, 'Active Cases'] = row['Total Cases'] - row['Total Deaths'] - row['Total Recovered']\n",
        "\n",
        "            elif not pd.isna(row['Active Cases']):\n",
        "                df.at[idx, 'Total Recovered'] = row['Total Cases'] - row['Total Deaths'] - row['Active Cases']"
      ],
      "metadata": {
        "id": "J9Qs1a9_yIfq"
      },
      "execution_count": 5,
      "outputs": []
    },
    {
      "cell_type": "markdown",
      "source": [
        "Explanation:\n",
        "\n",
        "*   This cell fills missing values in Total Recovered or Active Cases using the relationship:\n",
        "Total Cases = Total Deaths + Total Recovered + Active Cases.\n",
        "\n",
        "\n"
      ],
      "metadata": {
        "id": "8_3JZnHg56s-"
      }
    },
    {
      "cell_type": "markdown",
      "source": [
        "----------"
      ],
      "metadata": {
        "id": "k9cyt1406Uh7"
      }
    },
    {
      "cell_type": "markdown",
      "source": [
        "**6: Creating Population Bins**"
      ],
      "metadata": {
        "id": "YBvb2Ki16XE4"
      }
    },
    {
      "cell_type": "code",
      "source": [
        "df['Population_Bin'] = pd.qcut(df['Population'], q=5, labels=False, duplicates='drop')"
      ],
      "metadata": {
        "id": "uq9W9GBKyMFi"
      },
      "execution_count": 6,
      "outputs": []
    },
    {
      "cell_type": "markdown",
      "source": [
        "Explanation:\n",
        "\n",
        "*   This cell creates a new column, Population_Bin, by dividing the Population column into 5 quantiles (quintiles) using pd.qcut()."
      ],
      "metadata": {
        "id": "PFE0IB_h6iQL"
      }
    },
    {
      "cell_type": "markdown",
      "source": [
        "-----"
      ],
      "metadata": {
        "id": "AwXSGRiT6tC3"
      }
    },
    {
      "cell_type": "markdown",
      "source": [
        "**7: Filling Missing Values with Group**"
      ],
      "metadata": {
        "id": "NBbmYmMP6vf9"
      }
    },
    {
      "cell_type": "code",
      "source": [
        "for col in numerical_cols:\n",
        "    if col != 'Total Cases':\n",
        "        df[col] = df.groupby('Population_Bin')[col].transform(lambda x: x.fillna(x.median()))"
      ],
      "metadata": {
        "id": "C0QECnfSyR7x"
      },
      "execution_count": 7,
      "outputs": []
    },
    {
      "cell_type": "markdown",
      "source": [
        "Explanation:\n",
        "\n",
        "*  This cell fills missing values in numerical columns (except Total Cases) with the median value of their respective Population_Bin group."
      ],
      "metadata": {
        "id": "XvDrFkqX7NFa"
      }
    },
    {
      "cell_type": "markdown",
      "source": [
        "-----"
      ],
      "metadata": {
        "id": "5EjMbgyi7bRj"
      }
    },
    {
      "cell_type": "markdown",
      "source": [
        "**8: Filling Remaining Missing Values with Overall Medians**"
      ],
      "metadata": {
        "id": "kOgLVqH_7di1"
      }
    },
    {
      "cell_type": "code",
      "source": [
        "for col in numerical_cols:\n",
        "    df[col] = df[col].fillna(df[col].median())"
      ],
      "metadata": {
        "id": "gumM8HSeyVX5"
      },
      "execution_count": 8,
      "outputs": []
    },
    {
      "cell_type": "markdown",
      "source": [
        "Explanation:\n",
        "* This cell fills any remaining missing values in numerical columns with the overall median of each column."
      ],
      "metadata": {
        "id": "sANAonqW7hK4"
      }
    },
    {
      "cell_type": "markdown",
      "source": [
        "-----"
      ],
      "metadata": {
        "id": "TLuoVDsh7sCJ"
      }
    },
    {
      "cell_type": "markdown",
      "source": [
        "**9: Dropping the Population Bin Column**"
      ],
      "metadata": {
        "id": "y8GA9IM77tuv"
      }
    },
    {
      "cell_type": "code",
      "source": [
        "df = df.drop(columns=['Population_Bin'])"
      ],
      "metadata": {
        "id": "QTWFl8QtyX-p"
      },
      "execution_count": 9,
      "outputs": []
    },
    {
      "cell_type": "markdown",
      "source": [
        "Explanation:\n",
        "\n",
        "* This cell removes the Population_Bin column from the DataFrame, as it was only used temporarily for grouping in Cell 7."
      ],
      "metadata": {
        "id": "VPaSSoCa7yRB"
      }
    },
    {
      "cell_type": "markdown",
      "source": [
        "-----"
      ],
      "metadata": {
        "id": "d4Ev9n3Q73bp"
      }
    },
    {
      "cell_type": "markdown",
      "source": [
        "**10: Clipping Negative Values**"
      ],
      "metadata": {
        "id": "7Fp9P0rk74jj"
      }
    },
    {
      "cell_type": "code",
      "source": [
        "for col in numerical_cols:\n",
        "    df[col] = df[col].clip(lower=0)"
      ],
      "metadata": {
        "id": "OSThQpMqyakh"
      },
      "execution_count": 10,
      "outputs": []
    },
    {
      "cell_type": "markdown",
      "source": [
        "Explanation:\n",
        "\n",
        "* This cell ensures all numerical columns have non-negative values by setting any negative values to 0."
      ],
      "metadata": {
        "id": "qP-GY9WC8Ag7"
      }
    },
    {
      "cell_type": "markdown",
      "source": [
        "-----"
      ],
      "metadata": {
        "id": "6aT6sEZc8Lz7"
      }
    },
    {
      "cell_type": "markdown",
      "source": [
        "**11: Checking Data Quality**"
      ],
      "metadata": {
        "id": "Ivcl0zvm8Ryx"
      }
    },
    {
      "cell_type": "code",
      "source": [
        "print(f\"Rows after cleaning: {len(df)}\")\n",
        "print(\"Missing values after cleaning:\")\n",
        "print(df.isna().sum())"
      ],
      "metadata": {
        "colab": {
          "base_uri": "https://localhost:8080/"
        },
        "id": "8g6hzx2gydLB",
        "outputId": "1c6ae24a-9934-4f41-9d62-fdfb3413aa57"
      },
      "execution_count": 11,
      "outputs": [
        {
          "output_type": "stream",
          "name": "stdout",
          "text": [
            "Rows after cleaning: 231\n",
            "Missing values after cleaning:\n",
            "Serial Number      0\n",
            "Country            0\n",
            "Total Cases        0\n",
            "Total Deaths       0\n",
            "Total Recovered    0\n",
            "Active Cases       0\n",
            "Total Test         0\n",
            "Population         0\n",
            "dtype: int64\n"
          ]
        }
      ]
    },
    {
      "cell_type": "markdown",
      "source": [
        "Explanation:\n",
        "\n",
        "**This cell evaluates the cleaned dataset by:**\n",
        "* Printing the number of rows remaining after cleaning (len(df)), which is 231.\n",
        "* Printing the count of missing values per column using df.isna().sum()."
      ],
      "metadata": {
        "id": "H7C_2rl28aBm"
      }
    },
    {
      "cell_type": "markdown",
      "source": [
        "-----"
      ],
      "metadata": {
        "id": "6OBeNAuX8p72"
      }
    },
    {
      "cell_type": "markdown",
      "source": [
        "**12: Saving the Cleaned Dataset**"
      ],
      "metadata": {
        "id": "54wHLaCf8rT2"
      }
    },
    {
      "cell_type": "code",
      "source": [
        "df.to_csv('cleaned_covid_worldwide.csv', index=False)"
      ],
      "metadata": {
        "id": "L0t-n4oO1xn1"
      },
      "execution_count": 15,
      "outputs": []
    },
    {
      "cell_type": "markdown",
      "source": [
        "**13: Creating a Dictionary of Missing Value Masks**"
      ],
      "metadata": {
        "id": "oHFQy6QJ9F_F"
      }
    },
    {
      "cell_type": "code",
      "source": [
        "missing_masks = {col: df[col].isna() for col in df.columns}"
      ],
      "metadata": {
        "id": "ZkJAlDau0uLi"
      },
      "execution_count": 13,
      "outputs": []
    },
    {
      "cell_type": "markdown",
      "source": [
        "Explanation:\n",
        "\n",
        "* This cell creates a dictionary missing_masks where each key is a column name, and each value is a boolean Series indicating where values in that column are missing (True for NaN, False otherwise)."
      ],
      "metadata": {
        "id": "IGdS9YdF9On4"
      }
    },
    {
      "cell_type": "markdown",
      "source": [
        "------"
      ],
      "metadata": {
        "id": "Ibc6NUWB9Q1q"
      }
    },
    {
      "cell_type": "markdown",
      "source": [
        "**14: Comparing Correlations Before and After Cleaning**"
      ],
      "metadata": {
        "id": "ZPBSvWZH9SKo"
      }
    },
    {
      "cell_type": "code",
      "source": [
        "corr_before = df.loc[~missing_masks['Total Cases'], ['Total Cases', 'Population']].corr(method='spearman').iloc[0,1]\n",
        "corr_after = df[['Total Cases', 'Population']].corr(method='spearman').iloc[0,1]\n",
        "print(f\"Correlation before: {corr_before:.4f}, after: {corr_after:.4f}\")"
      ],
      "metadata": {
        "colab": {
          "base_uri": "https://localhost:8080/"
        },
        "id": "tgordZvWzkbM",
        "outputId": "cd4f98b4-aa63-47bd-a205-e33d00349fe8"
      },
      "execution_count": 14,
      "outputs": [
        {
          "output_type": "stream",
          "name": "stdout",
          "text": [
            "Correlation before: 0.6777, after: 0.6777\n"
          ]
        }
      ]
    },
    {
      "cell_type": "markdown",
      "source": [
        "Explanation:\n",
        "\n",
        "* This cell calculates and compares the Spearman correlation between Total Cases and Population before and after cleaning."
      ],
      "metadata": {
        "id": "8YEEfmhu9Yef"
      }
    },
    {
      "cell_type": "markdown",
      "source": [
        "-----"
      ],
      "metadata": {
        "id": "ONjybvVx9b-J"
      }
    },
    {
      "cell_type": "markdown",
      "source": [
        "**15: Checking Data Consistency**"
      ],
      "metadata": {
        "id": "oCtyOmDS9dJk"
      }
    },
    {
      "cell_type": "code",
      "source": [
        "df['Discrepancy'] = df['Total Cases'] - (df['Total Deaths'] + df['Total Recovered'] + df['Active Cases'])\n",
        "tolerance = 0.01 * df['Total Cases']  # 1% tolerance\n",
        "consistent = (abs(df['Discrepancy']) <= tolerance).mean() * 100\n",
        "print(f\"\\nPercentage of rows where Total Cases = Total Deaths + Total Recovered + Active Cases (within 1%): {consistent:.2f}%\")"
      ],
      "metadata": {
        "colab": {
          "base_uri": "https://localhost:8080/"
        },
        "id": "MtUGnXy_2fFa",
        "outputId": "70f17fc3-ba9d-4148-e175-a65f108a192b"
      },
      "execution_count": 21,
      "outputs": [
        {
          "output_type": "stream",
          "name": "stdout",
          "text": [
            "\n",
            "Percentage of rows where Total Cases = Total Deaths + Total Recovered + Active Cases (within 1%): 87.88%\n"
          ]
        }
      ]
    },
    {
      "cell_type": "markdown",
      "source": [
        "Explanation:\n",
        "\n",
        "* This cell checks the consistency of the data by verifying if Total Cases equals the sum of Total Deaths, Total Recovered, and Active Cases within a 1% tolerance."
      ],
      "metadata": {
        "id": "FgEzARoE9iWr"
      }
    },
    {
      "cell_type": "markdown",
      "source": [
        "# Summary:\n",
        "\n",
        "**The notebook systematically cleans and validates a COVID-19 dataset:**\n",
        "\n",
        "* **Data Loading and Cleaning:** Loads the dataset, converts numerical columns, removes invalid rows, and imputes missing values using logical relationships and statistical methods (medians).\n",
        "* **Data Integrity:** Creates population bins for contextual imputation, clips negative values, and verifies no missing values remain.\n",
        "* **Validation:** Checks data consistency (correlation and discrepancy analysis) to ensure cleaning did not distort key relationships.\n",
        "* **Output:** Saves the cleaned dataset and provides summary statistics to confirm the process was successful."
      ],
      "metadata": {
        "id": "WVvp43DM9qvW"
      }
    }
  ]
}