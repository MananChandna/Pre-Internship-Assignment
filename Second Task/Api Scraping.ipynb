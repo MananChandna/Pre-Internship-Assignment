{
  "nbformat": 4,
  "nbformat_minor": 0,
  "metadata": {
    "colab": {
      "provenance": []
    },
    "kernelspec": {
      "name": "python3",
      "display_name": "Python 3"
    },
    "language_info": {
      "name": "python"
    }
  },
  "cells": [
    {
      "cell_type": "markdown",
      "source": [
        "Step 1: Install Required Packages"
      ],
      "metadata": {
        "id": "QEosqnG3Zpwa"
      }
    },
    {
      "cell_type": "code",
      "source": [
        "!pip install requests pandas"
      ],
      "metadata": {
        "colab": {
          "base_uri": "https://localhost:8080/"
        },
        "id": "7gfht5EUZsC_",
        "outputId": "73dd7038-d18f-43c0-eaca-ce3742619c3e"
      },
      "execution_count": 1,
      "outputs": [
        {
          "output_type": "stream",
          "name": "stdout",
          "text": [
            "Requirement already satisfied: requests in /usr/local/lib/python3.11/dist-packages (2.32.3)\n",
            "Requirement already satisfied: pandas in /usr/local/lib/python3.11/dist-packages (2.2.2)\n",
            "Requirement already satisfied: charset-normalizer<4,>=2 in /usr/local/lib/python3.11/dist-packages (from requests) (3.4.1)\n",
            "Requirement already satisfied: idna<4,>=2.5 in /usr/local/lib/python3.11/dist-packages (from requests) (3.10)\n",
            "Requirement already satisfied: urllib3<3,>=1.21.1 in /usr/local/lib/python3.11/dist-packages (from requests) (2.4.0)\n",
            "Requirement already satisfied: certifi>=2017.4.17 in /usr/local/lib/python3.11/dist-packages (from requests) (2025.4.26)\n",
            "Requirement already satisfied: numpy>=1.23.2 in /usr/local/lib/python3.11/dist-packages (from pandas) (2.0.2)\n",
            "Requirement already satisfied: python-dateutil>=2.8.2 in /usr/local/lib/python3.11/dist-packages (from pandas) (2.9.0.post0)\n",
            "Requirement already satisfied: pytz>=2020.1 in /usr/local/lib/python3.11/dist-packages (from pandas) (2025.2)\n",
            "Requirement already satisfied: tzdata>=2022.7 in /usr/local/lib/python3.11/dist-packages (from pandas) (2025.2)\n",
            "Requirement already satisfied: six>=1.5 in /usr/local/lib/python3.11/dist-packages (from python-dateutil>=2.8.2->pandas) (1.17.0)\n"
          ]
        }
      ]
    },
    {
      "cell_type": "markdown",
      "source": [
        "Step 2: Import Libraries"
      ],
      "metadata": {
        "id": "5HFYE1BMZw4L"
      }
    },
    {
      "cell_type": "code",
      "source": [
        "import requests\n",
        "import pandas as pd\n",
        "from datetime import datetime"
      ],
      "metadata": {
        "id": "YNB-LujEZxru"
      },
      "execution_count": 2,
      "outputs": []
    },
    {
      "cell_type": "markdown",
      "source": [
        "Step 3: API Configuration"
      ],
      "metadata": {
        "id": "xy8uk40sZ0_S"
      }
    },
    {
      "cell_type": "code",
      "source": [
        "API_KEY = '6958e1cd237f78c27d054892e05b2d24'\n",
        "CITY = 'London'\n",
        "BASE_URL = 'http://api.openweathermap.org/data/2.5/forecast'"
      ],
      "metadata": {
        "id": "9FoQYm2tZ3aO"
      },
      "execution_count": 3,
      "outputs": []
    },
    {
      "cell_type": "markdown",
      "source": [
        "Step 4: API Request"
      ],
      "metadata": {
        "id": "9QXMgj3sZ7u_"
      }
    },
    {
      "cell_type": "code",
      "source": [
        "params = {\n",
        "    'q': CITY,\n",
        "    'appid': API_KEY,\n",
        "    'units': 'metric'\n",
        "}\n",
        "\n",
        "response = requests.get(BASE_URL, params=params)\n",
        "data = response.json()\n",
        "\n",
        "if response.status_code != 200:\n",
        "    print(f\"Error: {data.get('message', 'Unknown error')}\")\n",
        "    exit()"
      ],
      "metadata": {
        "id": "GsQHl8JCZ9uG"
      },
      "execution_count": 4,
      "outputs": []
    },
    {
      "cell_type": "markdown",
      "source": [
        "Step 5: Extract Relevant Data"
      ],
      "metadata": {
        "id": "sxdE1BS4aB6t"
      }
    },
    {
      "cell_type": "code",
      "source": [
        "forecasts = data['list']\n",
        "\n",
        "timestamps = []\n",
        "temperatures = []\n",
        "feels_like = []\n",
        "humidity = []\n",
        "wind_speed = []\n",
        "weather_desc = []\n",
        "rain_3h = []\n",
        "\n",
        "for forecast in forecasts:\n",
        "    timestamps.append(forecast['dt'])\n",
        "    temperatures.append(forecast['main']['temp'])\n",
        "    feels_like.append(forecast['main']['feels_like'])\n",
        "    humidity.append(forecast['main']['humidity'])\n",
        "    wind_speed.append(forecast['wind']['speed'])\n",
        "    weather_desc.append(forecast['weather'][0]['description'])\n",
        "\n",
        "\n",
        "    rain_3h.append(forecast.get('rain', {}).get('3h', None))"
      ],
      "metadata": {
        "id": "ZPbkLGkbaCq1"
      },
      "execution_count": 10,
      "outputs": []
    },
    {
      "cell_type": "markdown",
      "source": [
        "Step 6: Create DataFrame and Clean Data"
      ],
      "metadata": {
        "id": "VkG-pdOzbLEv"
      }
    },
    {
      "cell_type": "code",
      "source": [
        "weather_df = pd.DataFrame({\n",
        "    'timestamp': timestamps,\n",
        "    'temperature': temperatures,\n",
        "    'feels_like': feels_like,\n",
        "    'humidity': humidity,\n",
        "    'wind_speed': wind_speed,\n",
        "    'weather_description': weather_desc,\n",
        "    'rain_3h': rain_3h\n",
        "})\n",
        "\n",
        "weather_df['datetime'] = pd.to_datetime(weather_df['timestamp'], unit='s')\n",
        "\n",
        "weather_df.set_index('datetime', inplace=True)\n",
        "\n",
        "weather_df.drop('timestamp', axis=1, inplace=True)\n",
        "\n",
        "weather_df['rain_3h'] = weather_df['rain_3h'].fillna(0)\n",
        "\n",
        "print(f\"Duplicate rows: {weather_df.duplicated().sum()}\")\n",
        "\n",
        "print(\"\\nData types before cleaning:\")\n",
        "print(weather_df.dtypes)\n",
        "\n",
        "numeric_cols = ['temperature', 'feels_like', 'humidity', 'wind_speed', 'rain_3h']\n",
        "weather_df[numeric_cols] = weather_df[numeric_cols].apply(pd.to_numeric, errors='coerce')\n",
        "\n",
        "weather_df['weather_description'] = weather_df['weather_description'].str.lower().str.strip()\n",
        "\n",
        "print(\"\\nSummary statistics:\")\n",
        "print(weather_df[numeric_cols].describe())\n",
        "\n",
        "temp_mask = (weather_df['temperature'] < -50) | (weather_df['temperature'] > 50)\n",
        "weather_df.loc[temp_mask, 'temperature'] = weather_df['temperature'].median()"
      ],
      "metadata": {
        "colab": {
          "base_uri": "https://localhost:8080/"
        },
        "id": "FPo4R6-UbO6Z",
        "outputId": "3e0963e0-a55c-4bc0-f961-f6638950ad14"
      },
      "execution_count": 11,
      "outputs": [
        {
          "output_type": "stream",
          "name": "stdout",
          "text": [
            "Duplicate rows: 0\n",
            "\n",
            "Data types before cleaning:\n",
            "temperature            float64\n",
            "feels_like             float64\n",
            "humidity                 int64\n",
            "wind_speed             float64\n",
            "weather_description     object\n",
            "rain_3h                float64\n",
            "dtype: object\n",
            "\n",
            "Summary statistics:\n",
            "       temperature  feels_like   humidity  wind_speed    rain_3h\n",
            "count    40.000000    40.00000  40.000000    40.00000  40.000000\n",
            "mean     10.725000     8.96250  61.850000     4.05225   0.018250\n",
            "std       3.994083     4.53399  15.284566     1.01929   0.049917\n",
            "min       4.670000     1.45000  35.000000     2.13000   0.000000\n",
            "25%       7.592500     5.20250  50.250000     3.47750   0.000000\n",
            "50%      10.640000     9.25000  59.500000     4.07500   0.000000\n",
            "75%      13.237500    12.12000  76.250000     4.56000   0.000000\n",
            "max      21.010000    20.08000  85.000000     6.70000   0.180000\n"
          ]
        }
      ]
    },
    {
      "cell_type": "markdown",
      "source": [
        "Step 7: Save Cleaned Data"
      ],
      "metadata": {
        "id": "RRSZ4Jlgbl3z"
      }
    },
    {
      "cell_type": "code",
      "source": [
        "weather_df.to_csv('london_weather_forecast_cleaned.csv')\n",
        "\n",
        "weather_df.to_excel('london_weather_forecast_cleaned.xlsx')\n",
        "\n",
        "print(\"\\nSample of cleaned data:\")\n",
        "print(weather_df.head())"
      ],
      "metadata": {
        "colab": {
          "base_uri": "https://localhost:8080/"
        },
        "id": "ziYsFvOgbocw",
        "outputId": "3595fff9-538c-44e0-d776-bcd6ba79ac9e"
      },
      "execution_count": 12,
      "outputs": [
        {
          "output_type": "stream",
          "name": "stdout",
          "text": [
            "\n",
            "Sample of cleaned data:\n",
            "                     temperature  feels_like  humidity  wind_speed  \\\n",
            "datetime                                                             \n",
            "2025-05-03 15:00:00        21.01       20.08        35        6.70   \n",
            "2025-05-03 18:00:00        18.72       17.72        41        5.18   \n",
            "2025-05-03 21:00:00        13.56       12.36        53        4.06   \n",
            "2025-05-04 00:00:00         7.30        4.94        79        3.53   \n",
            "2025-05-04 03:00:00         5.87        2.81        84        4.22   \n",
            "\n",
            "                    weather_description  rain_3h  \n",
            "datetime                                          \n",
            "2025-05-03 15:00:00       broken clouds      0.0  \n",
            "2025-05-03 18:00:00       broken clouds      0.0  \n",
            "2025-05-03 21:00:00    scattered clouds      0.0  \n",
            "2025-05-04 00:00:00          few clouds      0.0  \n",
            "2025-05-04 03:00:00    scattered clouds      0.0  \n"
          ]
        }
      ]
    }
  ]
}