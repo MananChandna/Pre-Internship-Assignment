{
  "cells": [
    {
      "cell_type": "code",
      "execution_count": 44,
      "metadata": {
        "execution": {
          "iopub.execute_input": "2025-05-11T19:09:07.311303Z",
          "iopub.status.busy": "2025-05-11T19:09:07.310639Z",
          "iopub.status.idle": "2025-05-11T19:09:11.711654Z",
          "shell.execute_reply": "2025-05-11T19:09:11.710082Z",
          "shell.execute_reply.started": "2025-05-11T19:09:07.311235Z"
        },
        "id": "feUBraLGxXN4",
        "trusted": true
      },
      "outputs": [],
      "source": [
        "import matplotlib.pyplot as plt\n",
        "import shap\n",
        "import pandas as pd\n",
        "import numpy as np\n",
        "import seaborn as sns\n",
        "import datetime\n",
        "from sklearn.preprocessing import LabelEncoder\n",
        "from sklearn import preprocessing\n",
        "from sklearn.preprocessing import StandardScaler\n",
        "from sklearn.model_selection import train_test_split\n",
        "import seaborn as sns\n",
        "from keras.layers import Dense, BatchNormalization, Dropout, LSTM\n",
        "from keras.models import Sequential\n",
        "from keras.utils import to_categorical\n",
        "from keras.optimizers import Adam\n",
        "from tensorflow.keras import regularizers\n",
        "from sklearn.metrics import precision_score, recall_score, confusion_matrix, classification_report, accuracy_score, f1_score\n",
        "from keras.metrics import AUC\n",
        "from keras import callbacks\n",
        "from sklearn.utils import class_weight\n",
        "\n",
        "np.random.seed(0)"
      ]
    },
    {
      "cell_type": "markdown",
      "metadata": {
        "id": "KENaf1zExXN5"
      },
      "source": [
        "# LOADING DATA"
      ]
    },
    {
      "cell_type": "code",
      "execution_count": 2,
      "metadata": {
        "colab": {
          "base_uri": "https://localhost:8080/",
          "height": 342
        },
        "execution": {
          "iopub.execute_input": "2025-05-11T19:00:36.258433Z",
          "iopub.status.busy": "2025-05-11T19:00:36.258094Z",
          "iopub.status.idle": "2025-05-11T19:00:37.007172Z",
          "shell.execute_reply": "2025-05-11T19:00:37.005817Z",
          "shell.execute_reply.started": "2025-05-11T19:00:36.258385Z"
        },
        "id": "kG4Ux4RRxXN6",
        "outputId": "7d510417-08e0-47fd-ae35-736c0663af77",
        "trusted": true
      },
      "outputs": [
        {
          "output_type": "execute_result",
          "data": {
            "text/plain": [
              "         Date Location  MinTemp  MaxTemp  Rainfall  Evaporation  Sunshine  \\\n",
              "0  2008-12-01   Albury     13.4     22.9       0.6          NaN       NaN   \n",
              "1  2008-12-02   Albury      7.4     25.1       0.0          NaN       NaN   \n",
              "2  2008-12-03   Albury     12.9     25.7       0.0          NaN       NaN   \n",
              "3  2008-12-04   Albury      9.2     28.0       0.0          NaN       NaN   \n",
              "4  2008-12-05   Albury     17.5     32.3       1.0          NaN       NaN   \n",
              "\n",
              "  WindGustDir  WindGustSpeed WindDir9am  ... Humidity9am  Humidity3pm  \\\n",
              "0           W           44.0          W  ...        71.0         22.0   \n",
              "1         WNW           44.0        NNW  ...        44.0         25.0   \n",
              "2         WSW           46.0          W  ...        38.0         30.0   \n",
              "3          NE           24.0         SE  ...        45.0         16.0   \n",
              "4           W           41.0        ENE  ...        82.0         33.0   \n",
              "\n",
              "   Pressure9am  Pressure3pm  Cloud9am  Cloud3pm  Temp9am  Temp3pm  RainToday  \\\n",
              "0       1007.7       1007.1       8.0       NaN     16.9     21.8         No   \n",
              "1       1010.6       1007.8       NaN       NaN     17.2     24.3         No   \n",
              "2       1007.6       1008.7       NaN       2.0     21.0     23.2         No   \n",
              "3       1017.6       1012.8       NaN       NaN     18.1     26.5         No   \n",
              "4       1010.8       1006.0       7.0       8.0     17.8     29.7         No   \n",
              "\n",
              "   RainTomorrow  \n",
              "0            No  \n",
              "1            No  \n",
              "2            No  \n",
              "3            No  \n",
              "4            No  \n",
              "\n",
              "[5 rows x 23 columns]"
            ],
            "text/html": [
              "\n",
              "  <div id=\"df-7521ac32-e1ce-48da-93e0-81894f2f198a\" class=\"colab-df-container\">\n",
              "    <div>\n",
              "<style scoped>\n",
              "    .dataframe tbody tr th:only-of-type {\n",
              "        vertical-align: middle;\n",
              "    }\n",
              "\n",
              "    .dataframe tbody tr th {\n",
              "        vertical-align: top;\n",
              "    }\n",
              "\n",
              "    .dataframe thead th {\n",
              "        text-align: right;\n",
              "    }\n",
              "</style>\n",
              "<table border=\"1\" class=\"dataframe\">\n",
              "  <thead>\n",
              "    <tr style=\"text-align: right;\">\n",
              "      <th></th>\n",
              "      <th>Date</th>\n",
              "      <th>Location</th>\n",
              "      <th>MinTemp</th>\n",
              "      <th>MaxTemp</th>\n",
              "      <th>Rainfall</th>\n",
              "      <th>Evaporation</th>\n",
              "      <th>Sunshine</th>\n",
              "      <th>WindGustDir</th>\n",
              "      <th>WindGustSpeed</th>\n",
              "      <th>WindDir9am</th>\n",
              "      <th>...</th>\n",
              "      <th>Humidity9am</th>\n",
              "      <th>Humidity3pm</th>\n",
              "      <th>Pressure9am</th>\n",
              "      <th>Pressure3pm</th>\n",
              "      <th>Cloud9am</th>\n",
              "      <th>Cloud3pm</th>\n",
              "      <th>Temp9am</th>\n",
              "      <th>Temp3pm</th>\n",
              "      <th>RainToday</th>\n",
              "      <th>RainTomorrow</th>\n",
              "    </tr>\n",
              "  </thead>\n",
              "  <tbody>\n",
              "    <tr>\n",
              "      <th>0</th>\n",
              "      <td>2008-12-01</td>\n",
              "      <td>Albury</td>\n",
              "      <td>13.4</td>\n",
              "      <td>22.9</td>\n",
              "      <td>0.6</td>\n",
              "      <td>NaN</td>\n",
              "      <td>NaN</td>\n",
              "      <td>W</td>\n",
              "      <td>44.0</td>\n",
              "      <td>W</td>\n",
              "      <td>...</td>\n",
              "      <td>71.0</td>\n",
              "      <td>22.0</td>\n",
              "      <td>1007.7</td>\n",
              "      <td>1007.1</td>\n",
              "      <td>8.0</td>\n",
              "      <td>NaN</td>\n",
              "      <td>16.9</td>\n",
              "      <td>21.8</td>\n",
              "      <td>No</td>\n",
              "      <td>No</td>\n",
              "    </tr>\n",
              "    <tr>\n",
              "      <th>1</th>\n",
              "      <td>2008-12-02</td>\n",
              "      <td>Albury</td>\n",
              "      <td>7.4</td>\n",
              "      <td>25.1</td>\n",
              "      <td>0.0</td>\n",
              "      <td>NaN</td>\n",
              "      <td>NaN</td>\n",
              "      <td>WNW</td>\n",
              "      <td>44.0</td>\n",
              "      <td>NNW</td>\n",
              "      <td>...</td>\n",
              "      <td>44.0</td>\n",
              "      <td>25.0</td>\n",
              "      <td>1010.6</td>\n",
              "      <td>1007.8</td>\n",
              "      <td>NaN</td>\n",
              "      <td>NaN</td>\n",
              "      <td>17.2</td>\n",
              "      <td>24.3</td>\n",
              "      <td>No</td>\n",
              "      <td>No</td>\n",
              "    </tr>\n",
              "    <tr>\n",
              "      <th>2</th>\n",
              "      <td>2008-12-03</td>\n",
              "      <td>Albury</td>\n",
              "      <td>12.9</td>\n",
              "      <td>25.7</td>\n",
              "      <td>0.0</td>\n",
              "      <td>NaN</td>\n",
              "      <td>NaN</td>\n",
              "      <td>WSW</td>\n",
              "      <td>46.0</td>\n",
              "      <td>W</td>\n",
              "      <td>...</td>\n",
              "      <td>38.0</td>\n",
              "      <td>30.0</td>\n",
              "      <td>1007.6</td>\n",
              "      <td>1008.7</td>\n",
              "      <td>NaN</td>\n",
              "      <td>2.0</td>\n",
              "      <td>21.0</td>\n",
              "      <td>23.2</td>\n",
              "      <td>No</td>\n",
              "      <td>No</td>\n",
              "    </tr>\n",
              "    <tr>\n",
              "      <th>3</th>\n",
              "      <td>2008-12-04</td>\n",
              "      <td>Albury</td>\n",
              "      <td>9.2</td>\n",
              "      <td>28.0</td>\n",
              "      <td>0.0</td>\n",
              "      <td>NaN</td>\n",
              "      <td>NaN</td>\n",
              "      <td>NE</td>\n",
              "      <td>24.0</td>\n",
              "      <td>SE</td>\n",
              "      <td>...</td>\n",
              "      <td>45.0</td>\n",
              "      <td>16.0</td>\n",
              "      <td>1017.6</td>\n",
              "      <td>1012.8</td>\n",
              "      <td>NaN</td>\n",
              "      <td>NaN</td>\n",
              "      <td>18.1</td>\n",
              "      <td>26.5</td>\n",
              "      <td>No</td>\n",
              "      <td>No</td>\n",
              "    </tr>\n",
              "    <tr>\n",
              "      <th>4</th>\n",
              "      <td>2008-12-05</td>\n",
              "      <td>Albury</td>\n",
              "      <td>17.5</td>\n",
              "      <td>32.3</td>\n",
              "      <td>1.0</td>\n",
              "      <td>NaN</td>\n",
              "      <td>NaN</td>\n",
              "      <td>W</td>\n",
              "      <td>41.0</td>\n",
              "      <td>ENE</td>\n",
              "      <td>...</td>\n",
              "      <td>82.0</td>\n",
              "      <td>33.0</td>\n",
              "      <td>1010.8</td>\n",
              "      <td>1006.0</td>\n",
              "      <td>7.0</td>\n",
              "      <td>8.0</td>\n",
              "      <td>17.8</td>\n",
              "      <td>29.7</td>\n",
              "      <td>No</td>\n",
              "      <td>No</td>\n",
              "    </tr>\n",
              "  </tbody>\n",
              "</table>\n",
              "<p>5 rows × 23 columns</p>\n",
              "</div>\n",
              "    <div class=\"colab-df-buttons\">\n",
              "\n",
              "  <div class=\"colab-df-container\">\n",
              "    <button class=\"colab-df-convert\" onclick=\"convertToInteractive('df-7521ac32-e1ce-48da-93e0-81894f2f198a')\"\n",
              "            title=\"Convert this dataframe to an interactive table.\"\n",
              "            style=\"display:none;\">\n",
              "\n",
              "  <svg xmlns=\"http://www.w3.org/2000/svg\" height=\"24px\" viewBox=\"0 -960 960 960\">\n",
              "    <path d=\"M120-120v-720h720v720H120Zm60-500h600v-160H180v160Zm220 220h160v-160H400v160Zm0 220h160v-160H400v160ZM180-400h160v-160H180v160Zm440 0h160v-160H620v160ZM180-180h160v-160H180v160Zm440 0h160v-160H620v160Z\"/>\n",
              "  </svg>\n",
              "    </button>\n",
              "\n",
              "  <style>\n",
              "    .colab-df-container {\n",
              "      display:flex;\n",
              "      gap: 12px;\n",
              "    }\n",
              "\n",
              "    .colab-df-convert {\n",
              "      background-color: #E8F0FE;\n",
              "      border: none;\n",
              "      border-radius: 50%;\n",
              "      cursor: pointer;\n",
              "      display: none;\n",
              "      fill: #1967D2;\n",
              "      height: 32px;\n",
              "      padding: 0 0 0 0;\n",
              "      width: 32px;\n",
              "    }\n",
              "\n",
              "    .colab-df-convert:hover {\n",
              "      background-color: #E2EBFA;\n",
              "      box-shadow: 0px 1px 2px rgba(60, 64, 67, 0.3), 0px 1px 3px 1px rgba(60, 64, 67, 0.15);\n",
              "      fill: #174EA6;\n",
              "    }\n",
              "\n",
              "    .colab-df-buttons div {\n",
              "      margin-bottom: 4px;\n",
              "    }\n",
              "\n",
              "    [theme=dark] .colab-df-convert {\n",
              "      background-color: #3B4455;\n",
              "      fill: #D2E3FC;\n",
              "    }\n",
              "\n",
              "    [theme=dark] .colab-df-convert:hover {\n",
              "      background-color: #434B5C;\n",
              "      box-shadow: 0px 1px 3px 1px rgba(0, 0, 0, 0.15);\n",
              "      filter: drop-shadow(0px 1px 2px rgba(0, 0, 0, 0.3));\n",
              "      fill: #FFFFFF;\n",
              "    }\n",
              "  </style>\n",
              "\n",
              "    <script>\n",
              "      const buttonEl =\n",
              "        document.querySelector('#df-7521ac32-e1ce-48da-93e0-81894f2f198a button.colab-df-convert');\n",
              "      buttonEl.style.display =\n",
              "        google.colab.kernel.accessAllowed ? 'block' : 'none';\n",
              "\n",
              "      async function convertToInteractive(key) {\n",
              "        const element = document.querySelector('#df-7521ac32-e1ce-48da-93e0-81894f2f198a');\n",
              "        const dataTable =\n",
              "          await google.colab.kernel.invokeFunction('convertToInteractive',\n",
              "                                                    [key], {});\n",
              "        if (!dataTable) return;\n",
              "\n",
              "        const docLinkHtml = 'Like what you see? Visit the ' +\n",
              "          '<a target=\"_blank\" href=https://colab.research.google.com/notebooks/data_table.ipynb>data table notebook</a>'\n",
              "          + ' to learn more about interactive tables.';\n",
              "        element.innerHTML = '';\n",
              "        dataTable['output_type'] = 'display_data';\n",
              "        await google.colab.output.renderOutput(dataTable, element);\n",
              "        const docLink = document.createElement('div');\n",
              "        docLink.innerHTML = docLinkHtml;\n",
              "        element.appendChild(docLink);\n",
              "      }\n",
              "    </script>\n",
              "  </div>\n",
              "\n",
              "\n",
              "    <div id=\"df-526ca633-b385-40ae-a081-8b74b74fc004\">\n",
              "      <button class=\"colab-df-quickchart\" onclick=\"quickchart('df-526ca633-b385-40ae-a081-8b74b74fc004')\"\n",
              "                title=\"Suggest charts\"\n",
              "                style=\"display:none;\">\n",
              "\n",
              "<svg xmlns=\"http://www.w3.org/2000/svg\" height=\"24px\"viewBox=\"0 0 24 24\"\n",
              "     width=\"24px\">\n",
              "    <g>\n",
              "        <path d=\"M19 3H5c-1.1 0-2 .9-2 2v14c0 1.1.9 2 2 2h14c1.1 0 2-.9 2-2V5c0-1.1-.9-2-2-2zM9 17H7v-7h2v7zm4 0h-2V7h2v10zm4 0h-2v-4h2v4z\"/>\n",
              "    </g>\n",
              "</svg>\n",
              "      </button>\n",
              "\n",
              "<style>\n",
              "  .colab-df-quickchart {\n",
              "      --bg-color: #E8F0FE;\n",
              "      --fill-color: #1967D2;\n",
              "      --hover-bg-color: #E2EBFA;\n",
              "      --hover-fill-color: #174EA6;\n",
              "      --disabled-fill-color: #AAA;\n",
              "      --disabled-bg-color: #DDD;\n",
              "  }\n",
              "\n",
              "  [theme=dark] .colab-df-quickchart {\n",
              "      --bg-color: #3B4455;\n",
              "      --fill-color: #D2E3FC;\n",
              "      --hover-bg-color: #434B5C;\n",
              "      --hover-fill-color: #FFFFFF;\n",
              "      --disabled-bg-color: #3B4455;\n",
              "      --disabled-fill-color: #666;\n",
              "  }\n",
              "\n",
              "  .colab-df-quickchart {\n",
              "    background-color: var(--bg-color);\n",
              "    border: none;\n",
              "    border-radius: 50%;\n",
              "    cursor: pointer;\n",
              "    display: none;\n",
              "    fill: var(--fill-color);\n",
              "    height: 32px;\n",
              "    padding: 0;\n",
              "    width: 32px;\n",
              "  }\n",
              "\n",
              "  .colab-df-quickchart:hover {\n",
              "    background-color: var(--hover-bg-color);\n",
              "    box-shadow: 0 1px 2px rgba(60, 64, 67, 0.3), 0 1px 3px 1px rgba(60, 64, 67, 0.15);\n",
              "    fill: var(--button-hover-fill-color);\n",
              "  }\n",
              "\n",
              "  .colab-df-quickchart-complete:disabled,\n",
              "  .colab-df-quickchart-complete:disabled:hover {\n",
              "    background-color: var(--disabled-bg-color);\n",
              "    fill: var(--disabled-fill-color);\n",
              "    box-shadow: none;\n",
              "  }\n",
              "\n",
              "  .colab-df-spinner {\n",
              "    border: 2px solid var(--fill-color);\n",
              "    border-color: transparent;\n",
              "    border-bottom-color: var(--fill-color);\n",
              "    animation:\n",
              "      spin 1s steps(1) infinite;\n",
              "  }\n",
              "\n",
              "  @keyframes spin {\n",
              "    0% {\n",
              "      border-color: transparent;\n",
              "      border-bottom-color: var(--fill-color);\n",
              "      border-left-color: var(--fill-color);\n",
              "    }\n",
              "    20% {\n",
              "      border-color: transparent;\n",
              "      border-left-color: var(--fill-color);\n",
              "      border-top-color: var(--fill-color);\n",
              "    }\n",
              "    30% {\n",
              "      border-color: transparent;\n",
              "      border-left-color: var(--fill-color);\n",
              "      border-top-color: var(--fill-color);\n",
              "      border-right-color: var(--fill-color);\n",
              "    }\n",
              "    40% {\n",
              "      border-color: transparent;\n",
              "      border-right-color: var(--fill-color);\n",
              "      border-top-color: var(--fill-color);\n",
              "    }\n",
              "    60% {\n",
              "      border-color: transparent;\n",
              "      border-right-color: var(--fill-color);\n",
              "    }\n",
              "    80% {\n",
              "      border-color: transparent;\n",
              "      border-right-color: var(--fill-color);\n",
              "      border-bottom-color: var(--fill-color);\n",
              "    }\n",
              "    90% {\n",
              "      border-color: transparent;\n",
              "      border-bottom-color: var(--fill-color);\n",
              "    }\n",
              "  }\n",
              "</style>\n",
              "\n",
              "      <script>\n",
              "        async function quickchart(key) {\n",
              "          const quickchartButtonEl =\n",
              "            document.querySelector('#' + key + ' button');\n",
              "          quickchartButtonEl.disabled = true;  // To prevent multiple clicks.\n",
              "          quickchartButtonEl.classList.add('colab-df-spinner');\n",
              "          try {\n",
              "            const charts = await google.colab.kernel.invokeFunction(\n",
              "                'suggestCharts', [key], {});\n",
              "          } catch (error) {\n",
              "            console.error('Error during call to suggestCharts:', error);\n",
              "          }\n",
              "          quickchartButtonEl.classList.remove('colab-df-spinner');\n",
              "          quickchartButtonEl.classList.add('colab-df-quickchart-complete');\n",
              "        }\n",
              "        (() => {\n",
              "          let quickchartButtonEl =\n",
              "            document.querySelector('#df-526ca633-b385-40ae-a081-8b74b74fc004 button');\n",
              "          quickchartButtonEl.style.display =\n",
              "            google.colab.kernel.accessAllowed ? 'block' : 'none';\n",
              "        })();\n",
              "      </script>\n",
              "    </div>\n",
              "\n",
              "    </div>\n",
              "  </div>\n"
            ],
            "application/vnd.google.colaboratory.intrinsic+json": {
              "type": "dataframe",
              "variable_name": "data"
            }
          },
          "metadata": {},
          "execution_count": 2
        }
      ],
      "source": [
        "data = pd.read_csv(\"/content/weatherAUS.csv\")\n",
        "data.head()"
      ]
    },
    {
      "cell_type": "markdown",
      "metadata": {
        "id": "fteOr-cnxXN7"
      },
      "source": [
        "**About the data:**\n",
        "\n",
        "The dataset contains about 10 years of daily weather observations from different locations across Australia. Observations were drawn from numerous weather stations.\n",
        "\n",
        "In this project, I will use this data to predict whether or not it will rain the next day. There are 23 attributes including the target variable \"RainTomorrow\", indicating whether or not it will rain the next day or not."
      ]
    },
    {
      "cell_type": "code",
      "execution_count": 3,
      "metadata": {
        "colab": {
          "base_uri": "https://localhost:8080/"
        },
        "execution": {
          "iopub.execute_input": "2025-05-11T19:00:37.009219Z",
          "iopub.status.busy": "2025-05-11T19:00:37.008833Z",
          "iopub.status.idle": "2025-05-11T19:00:37.102044Z",
          "shell.execute_reply": "2025-05-11T19:00:37.099660Z",
          "shell.execute_reply.started": "2025-05-11T19:00:37.009184Z"
        },
        "id": "uTW-rlsoxXN7",
        "outputId": "2d743ab0-ee4d-4028-e271-7928d202035c",
        "trusted": true
      },
      "outputs": [
        {
          "output_type": "stream",
          "name": "stdout",
          "text": [
            "<class 'pandas.core.frame.DataFrame'>\n",
            "RangeIndex: 145460 entries, 0 to 145459\n",
            "Data columns (total 23 columns):\n",
            " #   Column         Non-Null Count   Dtype  \n",
            "---  ------         --------------   -----  \n",
            " 0   Date           145460 non-null  object \n",
            " 1   Location       145460 non-null  object \n",
            " 2   MinTemp        143975 non-null  float64\n",
            " 3   MaxTemp        144199 non-null  float64\n",
            " 4   Rainfall       142199 non-null  float64\n",
            " 5   Evaporation    82670 non-null   float64\n",
            " 6   Sunshine       75625 non-null   float64\n",
            " 7   WindGustDir    135134 non-null  object \n",
            " 8   WindGustSpeed  135197 non-null  float64\n",
            " 9   WindDir9am     134894 non-null  object \n",
            " 10  WindDir3pm     141232 non-null  object \n",
            " 11  WindSpeed9am   143693 non-null  float64\n",
            " 12  WindSpeed3pm   142398 non-null  float64\n",
            " 13  Humidity9am    142806 non-null  float64\n",
            " 14  Humidity3pm    140953 non-null  float64\n",
            " 15  Pressure9am    130395 non-null  float64\n",
            " 16  Pressure3pm    130432 non-null  float64\n",
            " 17  Cloud9am       89572 non-null   float64\n",
            " 18  Cloud3pm       86102 non-null   float64\n",
            " 19  Temp9am        143693 non-null  float64\n",
            " 20  Temp3pm        141851 non-null  float64\n",
            " 21  RainToday      142199 non-null  object \n",
            " 22  RainTomorrow   142193 non-null  object \n",
            "dtypes: float64(16), object(7)\n",
            "memory usage: 25.5+ MB\n"
          ]
        }
      ],
      "source": [
        "data.info()"
      ]
    },
    {
      "cell_type": "markdown",
      "metadata": {
        "id": "cx6iPF2wxXN7"
      },
      "source": [
        "\n",
        " # DATA VISUALIZATION AND CLEANING\n",
        "\n",
        "**Steps involves in this section:**\n",
        "\n",
        "* Count plot of target column\n",
        "* Correlation amongst numeric attributes\n",
        "* Parse Dates into datetime\n",
        "* Encoding days and months as continuous cyclic features\n"
      ]
    },
    {
      "cell_type": "code",
      "execution_count": 4,
      "metadata": {
        "colab": {
          "base_uri": "https://localhost:8080/",
          "height": 553
        },
        "execution": {
          "iopub.execute_input": "2025-05-11T19:00:37.104212Z",
          "iopub.status.busy": "2025-05-11T19:00:37.103882Z",
          "iopub.status.idle": "2025-05-11T19:00:37.401386Z",
          "shell.execute_reply": "2025-05-11T19:00:37.400040Z",
          "shell.execute_reply.started": "2025-05-11T19:00:37.104180Z"
        },
        "id": "IbLQvfkDxXN7",
        "outputId": "68667c32-3b40-4a95-8d8c-57236f05a255",
        "trusted": true
      },
      "outputs": [
        {
          "output_type": "stream",
          "name": "stderr",
          "text": [
            "<ipython-input-4-9f925fcff129>:3: FutureWarning: \n",
            "\n",
            "Passing `palette` without assigning `hue` is deprecated and will be removed in v0.14.0. Assign the `x` variable to `hue` and set `legend=False` for the same effect.\n",
            "\n",
            "  sns.countplot(x= data[\"RainTomorrow\"], palette= cols)\n"
          ]
        },
        {
          "output_type": "execute_result",
          "data": {
            "text/plain": [
              "<Axes: xlabel='RainTomorrow', ylabel='count'>"
            ]
          },
          "metadata": {},
          "execution_count": 4
        },
        {
          "output_type": "display_data",
          "data": {
            "text/plain": [
              "<Figure size 640x480 with 1 Axes>"
            ],
            "image/png": "[encoded data removed]"
          },
          "metadata": {}
        }
      ],
      "source": [
        "#first of all let us evaluate the target and find out if our data is imbalanced or not\n",
        "cols= [\"#C2C4E2\",\"#EED4E5\"]\n",
        "sns.countplot(x= data[\"RainTomorrow\"], palette= cols)"
      ]
    },
    {
      "cell_type": "markdown",
      "metadata": {
        "id": "2GUg7Q_OxXN7"
      },
      "source": [
        "**Now I will parse Dates into datetime.**\n",
        "\n",
        "My goal is to build an artificial neural network(ANN). I will encode dates appropriately, i.e. I prefer the months and days in a cyclic continuous feature. As, date and time are inherently cyclical. To let the ANN model know that a feature is cyclical I split it into periodic subsections. Namely, years, months and days. Now for each subsection, I create two new features, deriving a sine transform and cosine transform of the subsection feature."
      ]
    },
    {
      "cell_type": "code",
      "execution_count": 5,
      "metadata": {
        "colab": {
          "base_uri": "https://localhost:8080/",
          "height": 147
        },
        "execution": {
          "iopub.execute_input": "2025-05-11T19:00:39.783552Z",
          "iopub.status.busy": "2025-05-11T19:00:39.783090Z",
          "iopub.status.idle": "2025-05-11T19:00:39.860130Z",
          "shell.execute_reply": "2025-05-11T19:00:39.858977Z",
          "shell.execute_reply.started": "2025-05-11T19:00:39.783507Z"
        },
        "id": "qHBoKlToxXN7",
        "outputId": "d6295179-40bd-4612-cb6b-847227c4eb7e",
        "trusted": true
      },
      "outputs": [
        {
          "output_type": "execute_result",
          "data": {
            "text/plain": [
              "Date\n",
              "10    145460\n",
              "Name: count, dtype: int64"
            ],
            "text/html": [
              "<div>\n",
              "<style scoped>\n",
              "    .dataframe tbody tr th:only-of-type {\n",
              "        vertical-align: middle;\n",
              "    }\n",
              "\n",
              "    .dataframe tbody tr th {\n",
              "        vertical-align: top;\n",
              "    }\n",
              "\n",
              "    .dataframe thead th {\n",
              "        text-align: right;\n",
              "    }\n",
              "</style>\n",
              "<table border=\"1\" class=\"dataframe\">\n",
              "  <thead>\n",
              "    <tr style=\"text-align: right;\">\n",
              "      <th></th>\n",
              "      <th>count</th>\n",
              "    </tr>\n",
              "    <tr>\n",
              "      <th>Date</th>\n",
              "      <th></th>\n",
              "    </tr>\n",
              "  </thead>\n",
              "  <tbody>\n",
              "    <tr>\n",
              "      <th>10</th>\n",
              "      <td>145460</td>\n",
              "    </tr>\n",
              "  </tbody>\n",
              "</table>\n",
              "</div><br><label><b>dtype:</b> int64</label>"
            ]
          },
          "metadata": {},
          "execution_count": 5
        }
      ],
      "source": [
        "#Parsing datetime\n",
        "#exploring the length of date objects\n",
        "lengths = data[\"Date\"].str.len()\n",
        "lengths.value_counts()"
      ]
    },
    {
      "cell_type": "code",
      "execution_count": 6,
      "metadata": {
        "colab": {
          "base_uri": "https://localhost:8080/",
          "height": 342
        },
        "execution": {
          "iopub.execute_input": "2025-05-11T19:00:39.861871Z",
          "iopub.status.busy": "2025-05-11T19:00:39.861534Z",
          "iopub.status.idle": "2025-05-11T19:00:40.046379Z",
          "shell.execute_reply": "2025-05-11T19:00:40.045271Z",
          "shell.execute_reply.started": "2025-05-11T19:00:39.861839Z"
        },
        "id": "OrpKbxgDxXN8",
        "outputId": "02bc8fc8-a26a-4861-bc1f-587a1d3ee2ed",
        "trusted": true
      },
      "outputs": [
        {
          "output_type": "execute_result",
          "data": {
            "text/plain": [
              "        Date Location  MinTemp  MaxTemp  Rainfall  Evaporation  Sunshine  \\\n",
              "0 2008-12-01   Albury     13.4     22.9       0.6          NaN       NaN   \n",
              "1 2008-12-02   Albury      7.4     25.1       0.0          NaN       NaN   \n",
              "2 2008-12-03   Albury     12.9     25.7       0.0          NaN       NaN   \n",
              "3 2008-12-04   Albury      9.2     28.0       0.0          NaN       NaN   \n",
              "4 2008-12-05   Albury     17.5     32.3       1.0          NaN       NaN   \n",
              "\n",
              "  WindGustDir  WindGustSpeed WindDir9am  ... Temp3pm  RainToday  RainTomorrow  \\\n",
              "0           W           44.0          W  ...    21.8         No            No   \n",
              "1         WNW           44.0        NNW  ...    24.3         No            No   \n",
              "2         WSW           46.0          W  ...    23.2         No            No   \n",
              "3          NE           24.0         SE  ...    26.5         No            No   \n",
              "4           W           41.0        ENE  ...    29.7         No            No   \n",
              "\n",
              "   year  month     month_sin  month_cos  day   day_sin   day_cos  \n",
              "0  2008     12 -2.449294e-16        1.0    1  0.201299  0.979530  \n",
              "1  2008     12 -2.449294e-16        1.0    2  0.394356  0.918958  \n",
              "2  2008     12 -2.449294e-16        1.0    3  0.571268  0.820763  \n",
              "3  2008     12 -2.449294e-16        1.0    4  0.724793  0.688967  \n",
              "4  2008     12 -2.449294e-16        1.0    5  0.848644  0.528964  \n",
              "\n",
              "[5 rows x 30 columns]"
            ],
            "text/html": [
              "\n",
              "  <div id=\"df-603c8e06-0e0b-4237-b27c-85d557810c4d\" class=\"colab-df-container\">\n",
              "    <div>\n",
              "<style scoped>\n",
              "    .dataframe tbody tr th:only-of-type {\n",
              "        vertical-align: middle;\n",
              "    }\n",
              "\n",
              "    .dataframe tbody tr th {\n",
              "        vertical-align: top;\n",
              "    }\n",
              "\n",
              "    .dataframe thead th {\n",
              "        text-align: right;\n",
              "    }\n",
              "</style>\n",
              "<table border=\"1\" class=\"dataframe\">\n",
              "  <thead>\n",
              "    <tr style=\"text-align: right;\">\n",
              "      <th></th>\n",
              "      <th>Date</th>\n",
              "      <th>Location</th>\n",
              "      <th>MinTemp</th>\n",
              "      <th>MaxTemp</th>\n",
              "      <th>Rainfall</th>\n",
              "      <th>Evaporation</th>\n",
              "      <th>Sunshine</th>\n",
              "      <th>WindGustDir</th>\n",
              "      <th>WindGustSpeed</th>\n",
              "      <th>WindDir9am</th>\n",
              "      <th>...</th>\n",
              "      <th>Temp3pm</th>\n",
              "      <th>RainToday</th>\n",
              "      <th>RainTomorrow</th>\n",
              "      <th>year</th>\n",
              "      <th>month</th>\n",
              "      <th>month_sin</th>\n",
              "      <th>month_cos</th>\n",
              "      <th>day</th>\n",
              "      <th>day_sin</th>\n",
              "      <th>day_cos</th>\n",
              "    </tr>\n",
              "  </thead>\n",
              "  <tbody>\n",
              "    <tr>\n",
              "      <th>0</th>\n",
              "      <td>2008-12-01</td>\n",
              "      <td>Albury</td>\n",
              "      <td>13.4</td>\n",
              "      <td>22.9</td>\n",
              "      <td>0.6</td>\n",
              "      <td>NaN</td>\n",
              "      <td>NaN</td>\n",
              "      <td>W</td>\n",
              "      <td>44.0</td>\n",
              "      <td>W</td>\n",
              "      <td>...</td>\n",
              "      <td>21.8</td>\n",
              "      <td>No</td>\n",
              "      <td>No</td>\n",
              "      <td>2008</td>\n",
              "      <td>12</td>\n",
              "      <td>-2.449294e-16</td>\n",
              "      <td>1.0</td>\n",
              "      <td>1</td>\n",
              "      <td>0.201299</td>\n",
              "      <td>0.979530</td>\n",
              "    </tr>\n",
              "    <tr>\n",
              "      <th>1</th>\n",
              "      <td>2008-12-02</td>\n",
              "      <td>Albury</td>\n",
              "      <td>7.4</td>\n",
              "      <td>25.1</td>\n",
              "      <td>0.0</td>\n",
              "      <td>NaN</td>\n",
              "      <td>NaN</td>\n",
              "      <td>WNW</td>\n",
              "      <td>44.0</td>\n",
              "      <td>NNW</td>\n",
              "      <td>...</td>\n",
              "      <td>24.3</td>\n",
              "      <td>No</td>\n",
              "      <td>No</td>\n",
              "      <td>2008</td>\n",
              "      <td>12</td>\n",
              "      <td>-2.449294e-16</td>\n",
              "      <td>1.0</td>\n",
              "      <td>2</td>\n",
              "      <td>0.394356</td>\n",
              "      <td>0.918958</td>\n",
              "    </tr>\n",
              "    <tr>\n",
              "      <th>2</th>\n",
              "      <td>2008-12-03</td>\n",
              "      <td>Albury</td>\n",
              "      <td>12.9</td>\n",
              "      <td>25.7</td>\n",
              "      <td>0.0</td>\n",
              "      <td>NaN</td>\n",
              "      <td>NaN</td>\n",
              "      <td>WSW</td>\n",
              "      <td>46.0</td>\n",
              "      <td>W</td>\n",
              "      <td>...</td>\n",
              "      <td>23.2</td>\n",
              "      <td>No</td>\n",
              "      <td>No</td>\n",
              "      <td>2008</td>\n",
              "      <td>12</td>\n",
              "      <td>-2.449294e-16</td>\n",
              "      <td>1.0</td>\n",
              "      <td>3</td>\n",
              "      <td>0.571268</td>\n",
              "      <td>0.820763</td>\n",
              "    </tr>\n",
              "    <tr>\n",
              "      <th>3</th>\n",
              "      <td>2008-12-04</td>\n",
              "      <td>Albury</td>\n",
              "      <td>9.2</td>\n",
              "      <td>28.0</td>\n",
              "      <td>0.0</td>\n",
              "      <td>NaN</td>\n",
              "      <td>NaN</td>\n",
              "      <td>NE</td>\n",
              "      <td>24.0</td>\n",
              "      <td>SE</td>\n",
              "      <td>...</td>\n",
              "      <td>26.5</td>\n",
              "      <td>No</td>\n",
              "      <td>No</td>\n",
              "      <td>2008</td>\n",
              "      <td>12</td>\n",
              "      <td>-2.449294e-16</td>\n",
              "      <td>1.0</td>\n",
              "      <td>4</td>\n",
              "      <td>0.724793</td>\n",
              "      <td>0.688967</td>\n",
              "    </tr>\n",
              "    <tr>\n",
              "      <th>4</th>\n",
              "      <td>2008-12-05</td>\n",
              "      <td>Albury</td>\n",
              "      <td>17.5</td>\n",
              "      <td>32.3</td>\n",
              "      <td>1.0</td>\n",
              "      <td>NaN</td>\n",
              "      <td>NaN</td>\n",
              "      <td>W</td>\n",
              "      <td>41.0</td>\n",
              "      <td>ENE</td>\n",
              "      <td>...</td>\n",
              "      <td>29.7</td>\n",
              "      <td>No</td>\n",
              "      <td>No</td>\n",
              "      <td>2008</td>\n",
              "      <td>12</td>\n",
              "      <td>-2.449294e-16</td>\n",
              "      <td>1.0</td>\n",
              "      <td>5</td>\n",
              "      <td>0.848644</td>\n",
              "      <td>0.528964</td>\n",
              "    </tr>\n",
              "  </tbody>\n",
              "</table>\n",
              "<p>5 rows × 30 columns</p>\n",
              "</div>\n",
              "    <div class=\"colab-df-buttons\">\n",
              "\n",
              "  <div class=\"colab-df-container\">\n",
              "    <button class=\"colab-df-convert\" onclick=\"convertToInteractive('df-603c8e06-0e0b-4237-b27c-85d557810c4d')\"\n",
              "            title=\"Convert this dataframe to an interactive table.\"\n",
              "            style=\"display:none;\">\n",
              "\n",
              "  <svg xmlns=\"http://www.w3.org/2000/svg\" height=\"24px\" viewBox=\"0 -960 960 960\">\n",
              "    <path d=\"M120-120v-720h720v720H120Zm60-500h600v-160H180v160Zm220 220h160v-160H400v160Zm0 220h160v-160H400v160ZM180-400h160v-160H180v160Zm440 0h160v-160H620v160ZM180-180h160v-160H180v160Zm440 0h160v-160H620v160Z\"/>\n",
              "  </svg>\n",
              "    </button>\n",
              "\n",
              "  <style>\n",
              "    .colab-df-container {\n",
              "      display:flex;\n",
              "      gap: 12px;\n",
              "    }\n",
              "\n",
              "    .colab-df-convert {\n",
              "      background-color: #E8F0FE;\n",
              "      border: none;\n",
              "      border-radius: 50%;\n",
              "      cursor: pointer;\n",
              "      display: none;\n",
              "      fill: #1967D2;\n",
              "      height: 32px;\n",
              "      padding: 0 0 0 0;\n",
              "      width: 32px;\n",
              "    }\n",
              "\n",
              "    .colab-df-convert:hover {\n",
              "      background-color: #E2EBFA;\n",
              "      box-shadow: 0px 1px 2px rgba(60, 64, 67, 0.3), 0px 1px 3px 1px rgba(60, 64, 67, 0.15);\n",
              "      fill: #174EA6;\n",
              "    }\n",
              "\n",
              "    .colab-df-buttons div {\n",
              "      margin-bottom: 4px;\n",
              "    }\n",
              "\n",
              "    [theme=dark] .colab-df-convert {\n",
              "      background-color: #3B4455;\n",
              "      fill: #D2E3FC;\n",
              "    }\n",
              "\n",
              "    [theme=dark] .colab-df-convert:hover {\n",
              "      background-color: #434B5C;\n",
              "      box-shadow: 0px 1px 3px 1px rgba(0, 0, 0, 0.15);\n",
              "      filter: drop-shadow(0px 1px 2px rgba(0, 0, 0, 0.3));\n",
              "      fill: #FFFFFF;\n",
              "    }\n",
              "  </style>\n",
              "\n",
              "    <script>\n",
              "      const buttonEl =\n",
              "        document.querySelector('#df-603c8e06-0e0b-4237-b27c-85d557810c4d button.colab-df-convert');\n",
              "      buttonEl.style.display =\n",
              "        google.colab.kernel.accessAllowed ? 'block' : 'none';\n",
              "\n",
              "      async function convertToInteractive(key) {\n",
              "        const element = document.querySelector('#df-603c8e06-0e0b-4237-b27c-85d557810c4d');\n",
              "        const dataTable =\n",
              "          await google.colab.kernel.invokeFunction('convertToInteractive',\n",
              "                                                    [key], {});\n",
              "        if (!dataTable) return;\n",
              "\n",
              "        const docLinkHtml = 'Like what you see? Visit the ' +\n",
              "          '<a target=\"_blank\" href=https://colab.research.google.com/notebooks/data_table.ipynb>data table notebook</a>'\n",
              "          + ' to learn more about interactive tables.';\n",
              "        element.innerHTML = '';\n",
              "        dataTable['output_type'] = 'display_data';\n",
              "        await google.colab.output.renderOutput(dataTable, element);\n",
              "        const docLink = document.createElement('div');\n",
              "        docLink.innerHTML = docLinkHtml;\n",
              "        element.appendChild(docLink);\n",
              "      }\n",
              "    </script>\n",
              "  </div>\n",
              "\n",
              "\n",
              "    <div id=\"df-965df9ff-8422-4665-9a6e-a79d4ba05713\">\n",
              "      <button class=\"colab-df-quickchart\" onclick=\"quickchart('df-965df9ff-8422-4665-9a6e-a79d4ba05713')\"\n",
              "                title=\"Suggest charts\"\n",
              "                style=\"display:none;\">\n",
              "\n",
              "<svg xmlns=\"http://www.w3.org/2000/svg\" height=\"24px\"viewBox=\"0 0 24 24\"\n",
              "     width=\"24px\">\n",
              "    <g>\n",
              "        <path d=\"M19 3H5c-1.1 0-2 .9-2 2v14c0 1.1.9 2 2 2h14c1.1 0 2-.9 2-2V5c0-1.1-.9-2-2-2zM9 17H7v-7h2v7zm4 0h-2V7h2v10zm4 0h-2v-4h2v4z\"/>\n",
              "    </g>\n",
              "</svg>\n",
              "      </button>\n",
              "\n",
              "<style>\n",
              "  .colab-df-quickchart {\n",
              "      --bg-color: #E8F0FE;\n",
              "      --fill-color: #1967D2;\n",
              "      --hover-bg-color: #E2EBFA;\n",
              "      --hover-fill-color: #174EA6;\n",
              "      --disabled-fill-color: #AAA;\n",
              "      --disabled-bg-color: #DDD;\n",
              "  }\n",
              "\n",
              "  [theme=dark] .colab-df-quickchart {\n",
              "      --bg-color: #3B4455;\n",
              "      --fill-color: #D2E3FC;\n",
              "      --hover-bg-color: #434B5C;\n",
              "      --hover-fill-color: #FFFFFF;\n",
              "      --disabled-bg-color: #3B4455;\n",
              "      --disabled-fill-color: #666;\n",
              "  }\n",
              "\n",
              "  .colab-df-quickchart {\n",
              "    background-color: var(--bg-color);\n",
              "    border: none;\n",
              "    border-radius: 50%;\n",
              "    cursor: pointer;\n",
              "    display: none;\n",
              "    fill: var(--fill-color);\n",
              "    height: 32px;\n",
              "    padding: 0;\n",
              "    width: 32px;\n",
              "  }\n",
              "\n",
              "  .colab-df-quickchart:hover {\n",
              "    background-color: var(--hover-bg-color);\n",
              "    box-shadow: 0 1px 2px rgba(60, 64, 67, 0.3), 0 1px 3px 1px rgba(60, 64, 67, 0.15);\n",
              "    fill: var(--button-hover-fill-color);\n",
              "  }\n",
              "\n",
              "  .colab-df-quickchart-complete:disabled,\n",
              "  .colab-df-quickchart-complete:disabled:hover {\n",
              "    background-color: var(--disabled-bg-color);\n",
              "    fill: var(--disabled-fill-color);\n",
              "    box-shadow: none;\n",
              "  }\n",
              "\n",
              "  .colab-df-spinner {\n",
              "    border: 2px solid var(--fill-color);\n",
              "    border-color: transparent;\n",
              "    border-bottom-color: var(--fill-color);\n",
              "    animation:\n",
              "      spin 1s steps(1) infinite;\n",
              "  }\n",
              "\n",
              "  @keyframes spin {\n",
              "    0% {\n",
              "      border-color: transparent;\n",
              "      border-bottom-color: var(--fill-color);\n",
              "      border-left-color: var(--fill-color);\n",
              "    }\n",
              "    20% {\n",
              "      border-color: transparent;\n",
              "      border-left-color: var(--fill-color);\n",
              "      border-top-color: var(--fill-color);\n",
              "    }\n",
              "    30% {\n",
              "      border-color: transparent;\n",
              "      border-left-color: var(--fill-color);\n",
              "      border-top-color: var(--fill-color);\n",
              "      border-right-color: var(--fill-color);\n",
              "    }\n",
              "    40% {\n",
              "      border-color: transparent;\n",
              "      border-right-color: var(--fill-color);\n",
              "      border-top-color: var(--fill-color);\n",
              "    }\n",
              "    60% {\n",
              "      border-color: transparent;\n",
              "      border-right-color: var(--fill-color);\n",
              "    }\n",
              "    80% {\n",
              "      border-color: transparent;\n",
              "      border-right-color: var(--fill-color);\n",
              "      border-bottom-color: var(--fill-color);\n",
              "    }\n",
              "    90% {\n",
              "      border-color: transparent;\n",
              "      border-bottom-color: var(--fill-color);\n",
              "    }\n",
              "  }\n",
              "</style>\n",
              "\n",
              "      <script>\n",
              "        async function quickchart(key) {\n",
              "          const quickchartButtonEl =\n",
              "            document.querySelector('#' + key + ' button');\n",
              "          quickchartButtonEl.disabled = true;  // To prevent multiple clicks.\n",
              "          quickchartButtonEl.classList.add('colab-df-spinner');\n",
              "          try {\n",
              "            const charts = await google.colab.kernel.invokeFunction(\n",
              "                'suggestCharts', [key], {});\n",
              "          } catch (error) {\n",
              "            console.error('Error during call to suggestCharts:', error);\n",
              "          }\n",
              "          quickchartButtonEl.classList.remove('colab-df-spinner');\n",
              "          quickchartButtonEl.classList.add('colab-df-quickchart-complete');\n",
              "        }\n",
              "        (() => {\n",
              "          let quickchartButtonEl =\n",
              "            document.querySelector('#df-965df9ff-8422-4665-9a6e-a79d4ba05713 button');\n",
              "          quickchartButtonEl.style.display =\n",
              "            google.colab.kernel.accessAllowed ? 'block' : 'none';\n",
              "        })();\n",
              "      </script>\n",
              "    </div>\n",
              "\n",
              "    </div>\n",
              "  </div>\n"
            ],
            "application/vnd.google.colaboratory.intrinsic+json": {
              "type": "dataframe",
              "variable_name": "data"
            }
          },
          "metadata": {},
          "execution_count": 6
        }
      ],
      "source": [
        "#There don't seem to be any error in dates so parsing values into datetime\n",
        "data['Date']= pd.to_datetime(data[\"Date\"])\n",
        "#Creating a collumn of year\n",
        "data['year'] = data.Date.dt.year\n",
        "\n",
        "# function to encode datetime into cyclic parameters.\n",
        "#As I am planning to use this data in a neural network I prefer the months and days in a cyclic continuous feature.\n",
        "\n",
        "def encode(data, col, max_val):\n",
        "    data[col + '_sin'] = np.sin(2 * np.pi * data[col]/max_val)\n",
        "    data[col + '_cos'] = np.cos(2 * np.pi * data[col]/max_val)\n",
        "    return data\n",
        "\n",
        "data['month'] = data.Date.dt.month\n",
        "data = encode(data, 'month', 12)\n",
        "\n",
        "data['day'] = data.Date.dt.day\n",
        "data = encode(data, 'day', 31)\n",
        "\n",
        "data.head()"
      ]
    },
    {
      "cell_type": "code",
      "execution_count": 7,
      "metadata": {
        "colab": {
          "base_uri": "https://localhost:8080/",
          "height": 489
        },
        "execution": {
          "iopub.execute_input": "2025-05-11T19:00:40.048214Z",
          "iopub.status.busy": "2025-05-11T19:00:40.047870Z",
          "iopub.status.idle": "2025-05-11T19:00:40.265827Z",
          "shell.execute_reply": "2025-05-11T19:00:40.264538Z",
          "shell.execute_reply.started": "2025-05-11T19:00:40.048183Z"
        },
        "id": "SHFgGbdDxXN8",
        "outputId": "6becdf5c-0b59-4572-ad24-68e6f5afaa9b",
        "trusted": true
      },
      "outputs": [
        {
          "output_type": "execute_result",
          "data": {
            "text/plain": [
              "Text(0.5, 0, 'Days In Year')"
            ]
          },
          "metadata": {},
          "execution_count": 7
        },
        {
          "output_type": "display_data",
          "data": {
            "text/plain": [
              "<Figure size 640x480 with 1 Axes>"
            ],
            "image/png": "[encoded data removed]"
          },
          "metadata": {}
        }
      ],
      "source": [
        "# roughly a year's span section\n",
        "section = data[:360]\n",
        "tm = section[\"day\"].plot(color=\"#C2C4E2\")\n",
        "tm.set_title(\"Distribution Of Days Over Year\")\n",
        "tm.set_ylabel(\"Days In month\")\n",
        "tm.set_xlabel(\"Days In Year\")"
      ]
    },
    {
      "cell_type": "markdown",
      "metadata": {
        "id": "5qUoyfmfxXN8"
      },
      "source": [
        "As expected, the \"year\" attribute of data repeats. However in this for the true cyclic nature is not presented in a continuous manner. Splitting months and days into Sine and cosine combination provides the cyclical continuous feature. This can be used as input features to ANN."
      ]
    },
    {
      "cell_type": "code",
      "execution_count": 8,
      "metadata": {
        "colab": {
          "base_uri": "https://localhost:8080/",
          "height": 489
        },
        "execution": {
          "iopub.execute_input": "2025-05-11T19:00:40.267947Z",
          "iopub.status.busy": "2025-05-11T19:00:40.267430Z",
          "iopub.status.idle": "2025-05-11T19:00:40.951495Z",
          "shell.execute_reply": "2025-05-11T19:00:40.950341Z",
          "shell.execute_reply.started": "2025-05-11T19:00:40.267833Z"
        },
        "id": "NeCcU-nLxXN8",
        "outputId": "969053a6-fbef-4786-eb64-0402cbd3cf0e",
        "trusted": true
      },
      "outputs": [
        {
          "output_type": "execute_result",
          "data": {
            "text/plain": [
              "Text(0.5, 0, 'Sine Encoded Months')"
            ]
          },
          "metadata": {},
          "execution_count": 8
        },
        {
          "output_type": "display_data",
          "data": {
            "text/plain": [
              "<Figure size 640x480 with 1 Axes>"
            ],
            "image/png": "[encoded data removed]"
          },
          "metadata": {}
        }
      ],
      "source": [
        "cyclic_month = sns.scatterplot(x=\"month_sin\",y=\"month_cos\",data=data, color=\"#C2C4E2\")\n",
        "cyclic_month.set_title(\"Cyclic Encoding of Month\")\n",
        "cyclic_month.set_ylabel(\"Cosine Encoded Months\")\n",
        "cyclic_month.set_xlabel(\"Sine Encoded Months\")\n"
      ]
    },
    {
      "cell_type": "code",
      "execution_count": 9,
      "metadata": {
        "colab": {
          "base_uri": "https://localhost:8080/",
          "height": 489
        },
        "execution": {
          "iopub.execute_input": "2025-05-11T19:00:40.953609Z",
          "iopub.status.busy": "2025-05-11T19:00:40.953181Z",
          "iopub.status.idle": "2025-05-11T19:00:41.442901Z",
          "shell.execute_reply": "2025-05-11T19:00:41.441477Z",
          "shell.execute_reply.started": "2025-05-11T19:00:40.953561Z"
        },
        "id": "QIEXB-s8xXN8",
        "outputId": "e8d9c0d6-d3a4-4385-cae7-9de11a89e238",
        "trusted": true
      },
      "outputs": [
        {
          "output_type": "execute_result",
          "data": {
            "text/plain": [
              "Text(0.5, 0, 'Sine Encoded Day')"
            ]
          },
          "metadata": {},
          "execution_count": 9
        },
        {
          "output_type": "display_data",
          "data": {
            "text/plain": [
              "<Figure size 640x480 with 1 Axes>"
            ],
            "image/png": "[encoded data removed]"
          },
          "metadata": {}
        }
      ],
      "source": [
        "cyclic_day = sns.scatterplot(x='day_sin',y='day_cos',data=data, color=\"#C2C4E2\")\n",
        "cyclic_day.set_title(\"Cyclic Encoding of Day\")\n",
        "cyclic_day.set_ylabel(\"Cosine Encoded Day\")\n",
        "cyclic_day.set_xlabel(\"Sine Encoded Day\")"
      ]
    },
    {
      "cell_type": "markdown",
      "metadata": {
        "id": "Mo9-D50kxXN8"
      },
      "source": [
        "Next, I will deal with missing values in categorical and numeric attributes separately"
      ]
    },
    {
      "cell_type": "markdown",
      "metadata": {
        "id": "_227_5X3xXN8"
      },
      "source": [
        "**Categorical variables**\n",
        "\n",
        "* Filling missing values with mode of the column value"
      ]
    },
    {
      "cell_type": "code",
      "execution_count": 10,
      "metadata": {
        "colab": {
          "base_uri": "https://localhost:8080/"
        },
        "execution": {
          "iopub.execute_input": "2025-05-11T19:00:41.445178Z",
          "iopub.status.busy": "2025-05-11T19:00:41.444716Z",
          "iopub.status.idle": "2025-05-11T19:00:41.453292Z",
          "shell.execute_reply": "2025-05-11T19:00:41.452014Z",
          "shell.execute_reply.started": "2025-05-11T19:00:41.445125Z"
        },
        "id": "HzOIxdWJxXN8",
        "outputId": "d5568a56-22ed-4ae7-ece4-570adeff51e2",
        "trusted": true
      },
      "outputs": [
        {
          "output_type": "stream",
          "name": "stdout",
          "text": [
            "Categorical variables:\n",
            "['Location', 'WindGustDir', 'WindDir9am', 'WindDir3pm', 'RainToday', 'RainTomorrow']\n"
          ]
        }
      ],
      "source": [
        "# Get list of categorical variables\n",
        "s = (data.dtypes == \"object\")\n",
        "object_cols = list(s[s].index)\n",
        "\n",
        "print(\"Categorical variables:\")\n",
        "print(object_cols)"
      ]
    },
    {
      "cell_type": "code",
      "execution_count": 11,
      "metadata": {
        "colab": {
          "base_uri": "https://localhost:8080/"
        },
        "execution": {
          "iopub.execute_input": "2025-05-11T19:00:41.455721Z",
          "iopub.status.busy": "2025-05-11T19:00:41.455204Z",
          "iopub.status.idle": "2025-05-11T19:00:41.519189Z",
          "shell.execute_reply": "2025-05-11T19:00:41.517959Z",
          "shell.execute_reply.started": "2025-05-11T19:00:41.455652Z"
        },
        "id": "y14E2vaOxXN8",
        "outputId": "0c7048ff-c9b3-4dab-92f6-61a5013b71b3",
        "trusted": true
      },
      "outputs": [
        {
          "output_type": "stream",
          "name": "stdout",
          "text": [
            "Location 0\n",
            "WindGustDir 10326\n",
            "WindDir9am 10566\n",
            "WindDir3pm 4228\n",
            "RainToday 3261\n",
            "RainTomorrow 3267\n"
          ]
        }
      ],
      "source": [
        "# Missing values in categorical variables\n",
        "\n",
        "for i in object_cols:\n",
        "    print(i, data[i].isnull().sum())"
      ]
    },
    {
      "cell_type": "code",
      "execution_count": 12,
      "metadata": {
        "colab": {
          "base_uri": "https://localhost:8080/"
        },
        "execution": {
          "iopub.execute_input": "2025-05-11T19:00:41.521309Z",
          "iopub.status.busy": "2025-05-11T19:00:41.520985Z",
          "iopub.status.idle": "2025-05-11T19:00:41.631343Z",
          "shell.execute_reply": "2025-05-11T19:00:41.630353Z",
          "shell.execute_reply.started": "2025-05-11T19:00:41.521276Z"
        },
        "id": "ZwL6WjY8xXN8",
        "outputId": "0ca6bcef-152e-4456-e912-66a4412d6027",
        "trusted": true
      },
      "outputs": [
        {
          "output_type": "stream",
          "name": "stderr",
          "text": [
            "<ipython-input-12-c47c2d6da7f2>:4: FutureWarning: A value is trying to be set on a copy of a DataFrame or Series through chained assignment using an inplace method.\n",
            "The behavior will change in pandas 3.0. This inplace method will never work because the intermediate object on which we are setting values always behaves as a copy.\n",
            "\n",
            "For example, when doing 'df[col].method(value, inplace=True)', try using 'df.method({col: value}, inplace=True)' or df[col] = df[col].method(value) instead, to perform the operation inplace on the original object.\n",
            "\n",
            "\n",
            "  data[i].fillna(data[i].mode()[0], inplace=True)\n"
          ]
        }
      ],
      "source": [
        "# Filling missing values with mode of the column in value\n",
        "\n",
        "for i in object_cols:\n",
        "    data[i].fillna(data[i].mode()[0], inplace=True)"
      ]
    },
    {
      "cell_type": "markdown",
      "metadata": {
        "id": "nZgNm5SixXN8"
      },
      "source": [
        "**Numerical variables**\n",
        "\n",
        "* Filling missing values with median of the column value"
      ]
    },
    {
      "cell_type": "code",
      "execution_count": 13,
      "metadata": {
        "colab": {
          "base_uri": "https://localhost:8080/"
        },
        "execution": {
          "iopub.execute_input": "2025-05-11T19:00:41.633051Z",
          "iopub.status.busy": "2025-05-11T19:00:41.632750Z",
          "iopub.status.idle": "2025-05-11T19:00:41.639488Z",
          "shell.execute_reply": "2025-05-11T19:00:41.638299Z",
          "shell.execute_reply.started": "2025-05-11T19:00:41.633023Z"
        },
        "id": "Izf8ZGqexXN8",
        "outputId": "d8b3c5fc-3980-45b1-9397-5765cc53e7a3",
        "trusted": true
      },
      "outputs": [
        {
          "output_type": "stream",
          "name": "stdout",
          "text": [
            "Neumeric variables:\n",
            "['MinTemp', 'MaxTemp', 'Rainfall', 'Evaporation', 'Sunshine', 'WindGustSpeed', 'WindSpeed9am', 'WindSpeed3pm', 'Humidity9am', 'Humidity3pm', 'Pressure9am', 'Pressure3pm', 'Cloud9am', 'Cloud3pm', 'Temp9am', 'Temp3pm', 'month_sin', 'month_cos', 'day_sin', 'day_cos']\n"
          ]
        }
      ],
      "source": [
        "# Get list of neumeric variables\n",
        "t = (data.dtypes == \"float64\")\n",
        "num_cols = list(t[t].index)\n",
        "\n",
        "print(\"Neumeric variables:\")\n",
        "print(num_cols)"
      ]
    },
    {
      "cell_type": "code",
      "execution_count": 14,
      "metadata": {
        "colab": {
          "base_uri": "https://localhost:8080/"
        },
        "execution": {
          "iopub.execute_input": "2025-05-11T19:00:41.641169Z",
          "iopub.status.busy": "2025-05-11T19:00:41.640830Z",
          "iopub.status.idle": "2025-05-11T19:00:41.676266Z",
          "shell.execute_reply": "2025-05-11T19:00:41.674926Z",
          "shell.execute_reply.started": "2025-05-11T19:00:41.641135Z"
        },
        "id": "Yb_fl8mTxXN9",
        "outputId": "0cc15274-97b9-4637-baa5-ad312d8e5380",
        "trusted": true
      },
      "outputs": [
        {
          "output_type": "stream",
          "name": "stdout",
          "text": [
            "MinTemp 1485\n",
            "MaxTemp 1261\n",
            "Rainfall 3261\n",
            "Evaporation 62790\n",
            "Sunshine 69835\n",
            "WindGustSpeed 10263\n",
            "WindSpeed9am 1767\n",
            "WindSpeed3pm 3062\n",
            "Humidity9am 2654\n",
            "Humidity3pm 4507\n",
            "Pressure9am 15065\n",
            "Pressure3pm 15028\n",
            "Cloud9am 55888\n",
            "Cloud3pm 59358\n",
            "Temp9am 1767\n",
            "Temp3pm 3609\n",
            "month_sin 0\n",
            "month_cos 0\n",
            "day_sin 0\n",
            "day_cos 0\n"
          ]
        }
      ],
      "source": [
        "# Missing values in numeric variables\n",
        "\n",
        "for i in num_cols:\n",
        "    print(i, data[i].isnull().sum())"
      ]
    },
    {
      "cell_type": "code",
      "execution_count": 15,
      "metadata": {
        "colab": {
          "base_uri": "https://localhost:8080/"
        },
        "execution": {
          "iopub.execute_input": "2025-05-11T19:00:41.677921Z",
          "iopub.status.busy": "2025-05-11T19:00:41.677539Z",
          "iopub.status.idle": "2025-05-11T19:00:41.788281Z",
          "shell.execute_reply": "2025-05-11T19:00:41.787280Z",
          "shell.execute_reply.started": "2025-05-11T19:00:41.677889Z"
        },
        "id": "L1-Ja4zIxXN9",
        "outputId": "0782ad5b-157e-407c-d8ca-fa61d7a31179",
        "trusted": true
      },
      "outputs": [
        {
          "output_type": "stream",
          "name": "stderr",
          "text": [
            "<ipython-input-15-ae2eb0e01834>:4: FutureWarning: A value is trying to be set on a copy of a DataFrame or Series through chained assignment using an inplace method.\n",
            "The behavior will change in pandas 3.0. This inplace method will never work because the intermediate object on which we are setting values always behaves as a copy.\n",
            "\n",
            "For example, when doing 'df[col].method(value, inplace=True)', try using 'df.method({col: value}, inplace=True)' or df[col] = df[col].method(value) instead, to perform the operation inplace on the original object.\n",
            "\n",
            "\n",
            "  data[i].fillna(data[i].median(), inplace=True)\n"
          ]
        },
        {
          "output_type": "stream",
          "name": "stdout",
          "text": [
            "<class 'pandas.core.frame.DataFrame'>\n",
            "RangeIndex: 145460 entries, 0 to 145459\n",
            "Data columns (total 30 columns):\n",
            " #   Column         Non-Null Count   Dtype         \n",
            "---  ------         --------------   -----         \n",
            " 0   Date           145460 non-null  datetime64[ns]\n",
            " 1   Location       145460 non-null  object        \n",
            " 2   MinTemp        145460 non-null  float64       \n",
            " 3   MaxTemp        145460 non-null  float64       \n",
            " 4   Rainfall       145460 non-null  float64       \n",
            " 5   Evaporation    145460 non-null  float64       \n",
            " 6   Sunshine       145460 non-null  float64       \n",
            " 7   WindGustDir    145460 non-null  object        \n",
            " 8   WindGustSpeed  145460 non-null  float64       \n",
            " 9   WindDir9am     145460 non-null  object        \n",
            " 10  WindDir3pm     145460 non-null  object        \n",
            " 11  WindSpeed9am   145460 non-null  float64       \n",
            " 12  WindSpeed3pm   145460 non-null  float64       \n",
            " 13  Humidity9am    145460 non-null  float64       \n",
            " 14  Humidity3pm    145460 non-null  float64       \n",
            " 15  Pressure9am    145460 non-null  float64       \n",
            " 16  Pressure3pm    145460 non-null  float64       \n",
            " 17  Cloud9am       145460 non-null  float64       \n",
            " 18  Cloud3pm       145460 non-null  float64       \n",
            " 19  Temp9am        145460 non-null  float64       \n",
            " 20  Temp3pm        145460 non-null  float64       \n",
            " 21  RainToday      145460 non-null  object        \n",
            " 22  RainTomorrow   145460 non-null  object        \n",
            " 23  year           145460 non-null  int32         \n",
            " 24  month          145460 non-null  int32         \n",
            " 25  month_sin      145460 non-null  float64       \n",
            " 26  month_cos      145460 non-null  float64       \n",
            " 27  day            145460 non-null  int32         \n",
            " 28  day_sin        145460 non-null  float64       \n",
            " 29  day_cos        145460 non-null  float64       \n",
            "dtypes: datetime64[ns](1), float64(20), int32(3), object(6)\n",
            "memory usage: 31.6+ MB\n"
          ]
        }
      ],
      "source": [
        "# Filling missing values with median of the column in value\n",
        "\n",
        "for i in num_cols:\n",
        "    data[i].fillna(data[i].median(), inplace=True)\n",
        "\n",
        "data.info()"
      ]
    },
    {
      "cell_type": "code",
      "execution_count": 16,
      "metadata": {
        "_kg_hide-input": true,
        "colab": {
          "base_uri": "https://localhost:8080/",
          "height": 735
        },
        "execution": {
          "iopub.execute_input": "2025-05-11T19:00:41.790430Z",
          "iopub.status.busy": "2025-05-11T19:00:41.790105Z",
          "iopub.status.idle": "2025-05-11T19:00:43.788602Z",
          "shell.execute_reply": "2025-05-11T19:00:43.787359Z",
          "shell.execute_reply.started": "2025-05-11T19:00:41.790399Z"
        },
        "id": "V52dpyuRxXN9",
        "outputId": "e29f624d-4c36-4ddd-8b07-896f7a9ddd06",
        "trusted": true
      },
      "outputs": [
        {
          "output_type": "execute_result",
          "data": {
            "text/plain": [
              "Text(0.5, 0, 'Years')"
            ]
          },
          "metadata": {},
          "execution_count": 16
        },
        {
          "output_type": "display_data",
          "data": {
            "text/plain": [
              "<Figure size 1200x800 with 1 Axes>"
            ],
            "image/png": "[encoded data removed]"
          },
          "metadata": {}
        }
      ],
      "source": [
        "#plotting a lineplot rainfall over years\n",
        "plt.figure(figsize=(12,8))\n",
        "Time_series=sns.lineplot(x=data['Date'].dt.year,y=\"Rainfall\",data=data,color=\"#C2C4E2\")\n",
        "Time_series.set_title(\"Rainfall Over Years\")\n",
        "Time_series.set_ylabel(\"Rainfall\")\n",
        "Time_series.set_xlabel(\"Years\")"
      ]
    },
    {
      "cell_type": "code",
      "execution_count": 17,
      "metadata": {
        "_kg_hide-input": true,
        "colab": {
          "base_uri": "https://localhost:8080/",
          "height": 961
        },
        "execution": {
          "iopub.execute_input": "2025-05-11T19:00:43.790460Z",
          "iopub.status.busy": "2025-05-11T19:00:43.790111Z",
          "iopub.status.idle": "2025-05-11T19:00:44.098081Z",
          "shell.execute_reply": "2025-05-11T19:00:44.097099Z",
          "shell.execute_reply.started": "2025-05-11T19:00:43.790425Z"
        },
        "id": "6XskYjq8xXN9",
        "outputId": "08970efd-ba42-46fb-d9dc-905953a948b0",
        "trusted": true
      },
      "outputs": [
        {
          "output_type": "stream",
          "name": "stderr",
          "text": [
            "<ipython-input-17-98c985829d42>:4: FutureWarning: \n",
            "\n",
            "The `ci` parameter is deprecated. Use `errorbar=None` for the same effect.\n",
            "\n",
            "  Days_of_week=sns.barplot(x=data['Date'].dt.year,y=\"WindGustSpeed\",data=data, ci =None,palette = colours)\n",
            "<ipython-input-17-98c985829d42>:4: FutureWarning: \n",
            "\n",
            "Passing `palette` without assigning `hue` is deprecated and will be removed in v0.14.0. Assign the `x` variable to `hue` and set `legend=False` for the same effect.\n",
            "\n",
            "  Days_of_week=sns.barplot(x=data['Date'].dt.year,y=\"WindGustSpeed\",data=data, ci =None,palette = colours)\n",
            "<ipython-input-17-98c985829d42>:4: UserWarning: \n",
            "The palette list has fewer values (5) than needed (11) and will cycle, which may produce an uninterpretable plot.\n",
            "  Days_of_week=sns.barplot(x=data['Date'].dt.year,y=\"WindGustSpeed\",data=data, ci =None,palette = colours)\n"
          ]
        },
        {
          "output_type": "execute_result",
          "data": {
            "text/plain": [
              "Text(0.5, 0, 'Year')"
            ]
          },
          "metadata": {},
          "execution_count": 17
        },
        {
          "output_type": "display_data",
          "data": {
            "text/plain": [
              "<Figure size 1200x800 with 1 Axes>"
            ],
            "image/png": "[encoded data removed]"
          },
          "metadata": {}
        }
      ],
      "source": [
        "#Evauating Wind gust speed over years\n",
        "colours = [\"#D0DBEE\", \"#C2C4E2\", \"#EED4E5\", \"#D1E6DC\", \"#BDE2E2\"]\n",
        "plt.figure(figsize=(12,8))\n",
        "Days_of_week=sns.barplot(x=data['Date'].dt.year,y=\"WindGustSpeed\",data=data, ci =None,palette = colours)\n",
        "Days_of_week.set_title(\"Wind Gust Speed Over Years\")\n",
        "Days_of_week.set_ylabel(\"WindGustSpeed\")\n",
        "Days_of_week.set_xlabel(\"Year\")"
      ]
    },
    {
      "cell_type": "markdown",
      "metadata": {
        "id": "yLiEP38KxXN9"
      },
      "source": [
        "\n",
        " # DATA PREPROCESSING\n",
        "\n",
        "**Steps involved in Data Preprocessing:**\n",
        "\n",
        "* Label encoding columns with categorical data\n",
        "* Perform the scaling of the features\n",
        "* Detecting outliers\n",
        "* Dropping the outliers based on data analysis"
      ]
    },
    {
      "cell_type": "markdown",
      "metadata": {
        "id": "ImpulYXdxXN9"
      },
      "source": [
        "**Label encoding the catagorical varable**"
      ]
    },
    {
      "cell_type": "code",
      "execution_count": 18,
      "metadata": {
        "colab": {
          "base_uri": "https://localhost:8080/"
        },
        "execution": {
          "iopub.execute_input": "2025-05-11T19:00:44.100618Z",
          "iopub.status.busy": "2025-05-11T19:00:44.100149Z",
          "iopub.status.idle": "2025-05-11T19:00:44.316409Z",
          "shell.execute_reply": "2025-05-11T19:00:44.315064Z",
          "shell.execute_reply.started": "2025-05-11T19:00:44.100569Z"
        },
        "id": "mqVRCrtMxXN9",
        "outputId": "4f09f006-255e-4ff1-cb8a-4b6279148d2d",
        "trusted": true
      },
      "outputs": [
        {
          "output_type": "stream",
          "name": "stdout",
          "text": [
            "<class 'pandas.core.frame.DataFrame'>\n",
            "RangeIndex: 145460 entries, 0 to 145459\n",
            "Data columns (total 30 columns):\n",
            " #   Column         Non-Null Count   Dtype         \n",
            "---  ------         --------------   -----         \n",
            " 0   Date           145460 non-null  datetime64[ns]\n",
            " 1   Location       145460 non-null  int64         \n",
            " 2   MinTemp        145460 non-null  float64       \n",
            " 3   MaxTemp        145460 non-null  float64       \n",
            " 4   Rainfall       145460 non-null  float64       \n",
            " 5   Evaporation    145460 non-null  float64       \n",
            " 6   Sunshine       145460 non-null  float64       \n",
            " 7   WindGustDir    145460 non-null  int64         \n",
            " 8   WindGustSpeed  145460 non-null  float64       \n",
            " 9   WindDir9am     145460 non-null  int64         \n",
            " 10  WindDir3pm     145460 non-null  int64         \n",
            " 11  WindSpeed9am   145460 non-null  float64       \n",
            " 12  WindSpeed3pm   145460 non-null  float64       \n",
            " 13  Humidity9am    145460 non-null  float64       \n",
            " 14  Humidity3pm    145460 non-null  float64       \n",
            " 15  Pressure9am    145460 non-null  float64       \n",
            " 16  Pressure3pm    145460 non-null  float64       \n",
            " 17  Cloud9am       145460 non-null  float64       \n",
            " 18  Cloud3pm       145460 non-null  float64       \n",
            " 19  Temp9am        145460 non-null  float64       \n",
            " 20  Temp3pm        145460 non-null  float64       \n",
            " 21  RainToday      145460 non-null  int64         \n",
            " 22  RainTomorrow   145460 non-null  int64         \n",
            " 23  year           145460 non-null  int32         \n",
            " 24  month          145460 non-null  int32         \n",
            " 25  month_sin      145460 non-null  float64       \n",
            " 26  month_cos      145460 non-null  float64       \n",
            " 27  day            145460 non-null  int32         \n",
            " 28  day_sin        145460 non-null  float64       \n",
            " 29  day_cos        145460 non-null  float64       \n",
            "dtypes: datetime64[ns](1), float64(20), int32(3), int64(6)\n",
            "memory usage: 31.6 MB\n"
          ]
        }
      ],
      "source": [
        "# Apply label encoder to each column with categorical data\n",
        "label_encoder = LabelEncoder()\n",
        "for i in object_cols:\n",
        "    data[i] = label_encoder.fit_transform(data[i])\n",
        "\n",
        "data.info()"
      ]
    },
    {
      "cell_type": "code",
      "execution_count": 19,
      "metadata": {
        "colab": {
          "base_uri": "https://localhost:8080/",
          "height": 864
        },
        "execution": {
          "iopub.execute_input": "2025-05-11T19:00:44.318096Z",
          "iopub.status.busy": "2025-05-11T19:00:44.317775Z",
          "iopub.status.idle": "2025-05-11T19:00:44.722083Z",
          "shell.execute_reply": "2025-05-11T19:00:44.719947Z",
          "shell.execute_reply.started": "2025-05-11T19:00:44.318063Z"
        },
        "id": "ShKQmUtUxXN9",
        "outputId": "b2d87de4-0536-443b-f5ea-2290a74caed5",
        "trusted": true
      },
      "outputs": [
        {
          "output_type": "execute_result",
          "data": {
            "text/plain": [
              "                  count          mean       std       min       25%       50%  \\\n",
              "Location       145460.0  7.815677e-18  1.000003 -1.672228 -0.899139  0.014511   \n",
              "MinTemp        145460.0 -4.501830e-16  1.000003 -3.250525 -0.705659 -0.030170   \n",
              "MaxTemp        145460.0  3.001220e-16  1.000003 -3.952405 -0.735852 -0.086898   \n",
              "Rainfall       145460.0  7.815677e-18  1.000003 -0.275097 -0.275097 -0.275097   \n",
              "Evaporation    145460.0 -3.282584e-17  1.000003 -1.629472 -0.371139 -0.119472   \n",
              "Sunshine       145460.0 -5.424080e-16  1.000003 -2.897217  0.076188  0.148710   \n",
              "WindGustDir    145460.0  6.252542e-18  1.000003 -1.724209 -0.872075  0.193094   \n",
              "WindGustSpeed  145460.0  1.824961e-16  1.000003 -2.588407 -0.683048 -0.073333   \n",
              "WindDir9am     145460.0  7.190423e-17  1.000003 -1.550000 -0.885669  0.000105   \n",
              "WindDir3pm     145460.0  8.284618e-17  1.000003 -1.718521 -0.837098  0.044324   \n",
              "WindSpeed9am   145460.0  5.627287e-17  1.000003 -1.583291 -0.793380 -0.116314   \n",
              "WindSpeed3pm   145460.0  6.565169e-17  1.000003 -2.141841 -0.650449  0.037886   \n",
              "Humidity9am    145460.0  2.250915e-16  1.000003 -3.654212 -0.631189  0.058273   \n",
              "Humidity3pm    145460.0 -8.440931e-17  1.000003 -2.518329 -0.710918  0.021816   \n",
              "Pressure9am    145460.0 -4.314254e-16  1.000003 -5.520544 -0.616005 -0.006653   \n",
              "Pressure3pm    145460.0  5.027043e-15  1.000003 -5.724832 -0.622769 -0.007520   \n",
              "Cloud9am       145460.0 -1.016038e-16  1.000003 -2.042425 -0.727490  0.149133   \n",
              "Cloud3pm       145460.0  7.346736e-17  1.000003 -2.235619 -0.336969  0.137693   \n",
              "Temp9am        145460.0  7.503050e-17  1.000003 -3.750358 -0.726764 -0.044517   \n",
              "Temp3pm        145460.0 -6.877796e-17  1.000003 -3.951301 -0.725322 -0.083046   \n",
              "RainToday      145460.0 -8.988029e-18  1.000003 -0.529795 -0.529795 -0.529795   \n",
              "year           145460.0  2.080221e-14  1.000003 -2.273637 -0.697391  0.090732   \n",
              "month_sin      145460.0 -4.884798e-17  1.000003 -1.434333 -0.725379 -0.016425   \n",
              "month_cos      145460.0 -2.745257e-17  1.000003 -1.388032 -1.198979  0.023080   \n",
              "day_sin        145460.0  3.565903e-18  1.000003 -1.403140 -1.019170 -0.003198   \n",
              "day_cos        145460.0 -1.413538e-17  1.000003 -1.392587 -1.055520 -0.044639   \n",
              "\n",
              "                    75%        max  \n",
              "Location       0.857881   1.701250  \n",
              "MinTemp        0.723865   3.410112  \n",
              "MaxTemp        0.703133   3.510563  \n",
              "Rainfall      -0.203581  43.945571  \n",
              "Evaporation    0.006361  43.985108  \n",
              "Sunshine       0.257494   2.360634  \n",
              "WindGustDir    1.045228   1.471296  \n",
              "WindGustSpeed  0.460168   7.243246  \n",
              "WindDir9am     0.885879   1.771653  \n",
              "WindDir3pm     0.925747   1.586813  \n",
              "WindSpeed9am   0.560752  13.086472  \n",
              "WindSpeed3pm   0.611499   7.839016  \n",
              "Humidity9am    0.747734   1.649338  \n",
              "Humidity3pm    0.656852   2.366565  \n",
              "Pressure9am    0.617561   3.471111  \n",
              "Pressure3pm    0.622735   3.653960  \n",
              "Cloud9am       0.587445   1.902380  \n",
              "Cloud3pm       0.612356   2.036343  \n",
              "Temp9am        0.699753   3.599302  \n",
              "Temp3pm        0.661411   3.653834  \n",
              "RainToday     -0.529795   1.887521  \n",
              "year           0.878855   1.666978  \n",
              "month_sin      0.692529   1.401483  \n",
              "month_cos      0.728636   1.434192  \n",
              "day_sin        1.012774   1.396744  \n",
              "day_cos        1.011221   1.455246  "
            ],
            "text/html": [
              "\n",
              "  <div id=\"df-420069fb-dd78-41dd-8157-ed77d475b020\" class=\"colab-df-container\">\n",
              "    <div>\n",
              "<style scoped>\n",
              "    .dataframe tbody tr th:only-of-type {\n",
              "        vertical-align: middle;\n",
              "    }\n",
              "\n",
              "    .dataframe tbody tr th {\n",
              "        vertical-align: top;\n",
              "    }\n",
              "\n",
              "    .dataframe thead th {\n",
              "        text-align: right;\n",
              "    }\n",
              "</style>\n",
              "<table border=\"1\" class=\"dataframe\">\n",
              "  <thead>\n",
              "    <tr style=\"text-align: right;\">\n",
              "      <th></th>\n",
              "      <th>count</th>\n",
              "      <th>mean</th>\n",
              "      <th>std</th>\n",
              "      <th>min</th>\n",
              "      <th>25%</th>\n",
              "      <th>50%</th>\n",
              "      <th>75%</th>\n",
              "      <th>max</th>\n",
              "    </tr>\n",
              "  </thead>\n",
              "  <tbody>\n",
              "    <tr>\n",
              "      <th>Location</th>\n",
              "      <td>145460.0</td>\n",
              "      <td>7.815677e-18</td>\n",
              "      <td>1.000003</td>\n",
              "      <td>-1.672228</td>\n",
              "      <td>-0.899139</td>\n",
              "      <td>0.014511</td>\n",
              "      <td>0.857881</td>\n",
              "      <td>1.701250</td>\n",
              "    </tr>\n",
              "    <tr>\n",
              "      <th>MinTemp</th>\n",
              "      <td>145460.0</td>\n",
              "      <td>-4.501830e-16</td>\n",
              "      <td>1.000003</td>\n",
              "      <td>-3.250525</td>\n",
              "      <td>-0.705659</td>\n",
              "      <td>-0.030170</td>\n",
              "      <td>0.723865</td>\n",
              "      <td>3.410112</td>\n",
              "    </tr>\n",
              "    <tr>\n",
              "      <th>MaxTemp</th>\n",
              "      <td>145460.0</td>\n",
              "      <td>3.001220e-16</td>\n",
              "      <td>1.000003</td>\n",
              "      <td>-3.952405</td>\n",
              "      <td>-0.735852</td>\n",
              "      <td>-0.086898</td>\n",
              "      <td>0.703133</td>\n",
              "      <td>3.510563</td>\n",
              "    </tr>\n",
              "    <tr>\n",
              "      <th>Rainfall</th>\n",
              "      <td>145460.0</td>\n",
              "      <td>7.815677e-18</td>\n",
              "      <td>1.000003</td>\n",
              "      <td>-0.275097</td>\n",
              "      <td>-0.275097</td>\n",
              "      <td>-0.275097</td>\n",
              "      <td>-0.203581</td>\n",
              "      <td>43.945571</td>\n",
              "    </tr>\n",
              "    <tr>\n",
              "      <th>Evaporation</th>\n",
              "      <td>145460.0</td>\n",
              "      <td>-3.282584e-17</td>\n",
              "      <td>1.000003</td>\n",
              "      <td>-1.629472</td>\n",
              "      <td>-0.371139</td>\n",
              "      <td>-0.119472</td>\n",
              "      <td>0.006361</td>\n",
              "      <td>43.985108</td>\n",
              "    </tr>\n",
              "    <tr>\n",
              "      <th>Sunshine</th>\n",
              "      <td>145460.0</td>\n",
              "      <td>-5.424080e-16</td>\n",
              "      <td>1.000003</td>\n",
              "      <td>-2.897217</td>\n",
              "      <td>0.076188</td>\n",
              "      <td>0.148710</td>\n",
              "      <td>0.257494</td>\n",
              "      <td>2.360634</td>\n",
              "    </tr>\n",
              "    <tr>\n",
              "      <th>WindGustDir</th>\n",
              "      <td>145460.0</td>\n",
              "      <td>6.252542e-18</td>\n",
              "      <td>1.000003</td>\n",
              "      <td>-1.724209</td>\n",
              "      <td>-0.872075</td>\n",
              "      <td>0.193094</td>\n",
              "      <td>1.045228</td>\n",
              "      <td>1.471296</td>\n",
              "    </tr>\n",
              "    <tr>\n",
              "      <th>WindGustSpeed</th>\n",
              "      <td>145460.0</td>\n",
              "      <td>1.824961e-16</td>\n",
              "      <td>1.000003</td>\n",
              "      <td>-2.588407</td>\n",
              "      <td>-0.683048</td>\n",
              "      <td>-0.073333</td>\n",
              "      <td>0.460168</td>\n",
              "      <td>7.243246</td>\n",
              "    </tr>\n",
              "    <tr>\n",
              "      <th>WindDir9am</th>\n",
              "      <td>145460.0</td>\n",
              "      <td>7.190423e-17</td>\n",
              "      <td>1.000003</td>\n",
              "      <td>-1.550000</td>\n",
              "      <td>-0.885669</td>\n",
              "      <td>0.000105</td>\n",
              "      <td>0.885879</td>\n",
              "      <td>1.771653</td>\n",
              "    </tr>\n",
              "    <tr>\n",
              "      <th>WindDir3pm</th>\n",
              "      <td>145460.0</td>\n",
              "      <td>8.284618e-17</td>\n",
              "      <td>1.000003</td>\n",
              "      <td>-1.718521</td>\n",
              "      <td>-0.837098</td>\n",
              "      <td>0.044324</td>\n",
              "      <td>0.925747</td>\n",
              "      <td>1.586813</td>\n",
              "    </tr>\n",
              "    <tr>\n",
              "      <th>WindSpeed9am</th>\n",
              "      <td>145460.0</td>\n",
              "      <td>5.627287e-17</td>\n",
              "      <td>1.000003</td>\n",
              "      <td>-1.583291</td>\n",
              "      <td>-0.793380</td>\n",
              "      <td>-0.116314</td>\n",
              "      <td>0.560752</td>\n",
              "      <td>13.086472</td>\n",
              "    </tr>\n",
              "    <tr>\n",
              "      <th>WindSpeed3pm</th>\n",
              "      <td>145460.0</td>\n",
              "      <td>6.565169e-17</td>\n",
              "      <td>1.000003</td>\n",
              "      <td>-2.141841</td>\n",
              "      <td>-0.650449</td>\n",
              "      <td>0.037886</td>\n",
              "      <td>0.611499</td>\n",
              "      <td>7.839016</td>\n",
              "    </tr>\n",
              "    <tr>\n",
              "      <th>Humidity9am</th>\n",
              "      <td>145460.0</td>\n",
              "      <td>2.250915e-16</td>\n",
              "      <td>1.000003</td>\n",
              "      <td>-3.654212</td>\n",
              "      <td>-0.631189</td>\n",
              "      <td>0.058273</td>\n",
              "      <td>0.747734</td>\n",
              "      <td>1.649338</td>\n",
              "    </tr>\n",
              "    <tr>\n",
              "      <th>Humidity3pm</th>\n",
              "      <td>145460.0</td>\n",
              "      <td>-8.440931e-17</td>\n",
              "      <td>1.000003</td>\n",
              "      <td>-2.518329</td>\n",
              "      <td>-0.710918</td>\n",
              "      <td>0.021816</td>\n",
              "      <td>0.656852</td>\n",
              "      <td>2.366565</td>\n",
              "    </tr>\n",
              "    <tr>\n",
              "      <th>Pressure9am</th>\n",
              "      <td>145460.0</td>\n",
              "      <td>-4.314254e-16</td>\n",
              "      <td>1.000003</td>\n",
              "      <td>-5.520544</td>\n",
              "      <td>-0.616005</td>\n",
              "      <td>-0.006653</td>\n",
              "      <td>0.617561</td>\n",
              "      <td>3.471111</td>\n",
              "    </tr>\n",
              "    <tr>\n",
              "      <th>Pressure3pm</th>\n",
              "      <td>145460.0</td>\n",
              "      <td>5.027043e-15</td>\n",
              "      <td>1.000003</td>\n",
              "      <td>-5.724832</td>\n",
              "      <td>-0.622769</td>\n",
              "      <td>-0.007520</td>\n",
              "      <td>0.622735</td>\n",
              "      <td>3.653960</td>\n",
              "    </tr>\n",
              "    <tr>\n",
              "      <th>Cloud9am</th>\n",
              "      <td>145460.0</td>\n",
              "      <td>-1.016038e-16</td>\n",
              "      <td>1.000003</td>\n",
              "      <td>-2.042425</td>\n",
              "      <td>-0.727490</td>\n",
              "      <td>0.149133</td>\n",
              "      <td>0.587445</td>\n",
              "      <td>1.902380</td>\n",
              "    </tr>\n",
              "    <tr>\n",
              "      <th>Cloud3pm</th>\n",
              "      <td>145460.0</td>\n",
              "      <td>7.346736e-17</td>\n",
              "      <td>1.000003</td>\n",
              "      <td>-2.235619</td>\n",
              "      <td>-0.336969</td>\n",
              "      <td>0.137693</td>\n",
              "      <td>0.612356</td>\n",
              "      <td>2.036343</td>\n",
              "    </tr>\n",
              "    <tr>\n",
              "      <th>Temp9am</th>\n",
              "      <td>145460.0</td>\n",
              "      <td>7.503050e-17</td>\n",
              "      <td>1.000003</td>\n",
              "      <td>-3.750358</td>\n",
              "      <td>-0.726764</td>\n",
              "      <td>-0.044517</td>\n",
              "      <td>0.699753</td>\n",
              "      <td>3.599302</td>\n",
              "    </tr>\n",
              "    <tr>\n",
              "      <th>Temp3pm</th>\n",
              "      <td>145460.0</td>\n",
              "      <td>-6.877796e-17</td>\n",
              "      <td>1.000003</td>\n",
              "      <td>-3.951301</td>\n",
              "      <td>-0.725322</td>\n",
              "      <td>-0.083046</td>\n",
              "      <td>0.661411</td>\n",
              "      <td>3.653834</td>\n",
              "    </tr>\n",
              "    <tr>\n",
              "      <th>RainToday</th>\n",
              "      <td>145460.0</td>\n",
              "      <td>-8.988029e-18</td>\n",
              "      <td>1.000003</td>\n",
              "      <td>-0.529795</td>\n",
              "      <td>-0.529795</td>\n",
              "      <td>-0.529795</td>\n",
              "      <td>-0.529795</td>\n",
              "      <td>1.887521</td>\n",
              "    </tr>\n",
              "    <tr>\n",
              "      <th>year</th>\n",
              "      <td>145460.0</td>\n",
              "      <td>2.080221e-14</td>\n",
              "      <td>1.000003</td>\n",
              "      <td>-2.273637</td>\n",
              "      <td>-0.697391</td>\n",
              "      <td>0.090732</td>\n",
              "      <td>0.878855</td>\n",
              "      <td>1.666978</td>\n",
              "    </tr>\n",
              "    <tr>\n",
              "      <th>month_sin</th>\n",
              "      <td>145460.0</td>\n",
              "      <td>-4.884798e-17</td>\n",
              "      <td>1.000003</td>\n",
              "      <td>-1.434333</td>\n",
              "      <td>-0.725379</td>\n",
              "      <td>-0.016425</td>\n",
              "      <td>0.692529</td>\n",
              "      <td>1.401483</td>\n",
              "    </tr>\n",
              "    <tr>\n",
              "      <th>month_cos</th>\n",
              "      <td>145460.0</td>\n",
              "      <td>-2.745257e-17</td>\n",
              "      <td>1.000003</td>\n",
              "      <td>-1.388032</td>\n",
              "      <td>-1.198979</td>\n",
              "      <td>0.023080</td>\n",
              "      <td>0.728636</td>\n",
              "      <td>1.434192</td>\n",
              "    </tr>\n",
              "    <tr>\n",
              "      <th>day_sin</th>\n",
              "      <td>145460.0</td>\n",
              "      <td>3.565903e-18</td>\n",
              "      <td>1.000003</td>\n",
              "      <td>-1.403140</td>\n",
              "      <td>-1.019170</td>\n",
              "      <td>-0.003198</td>\n",
              "      <td>1.012774</td>\n",
              "      <td>1.396744</td>\n",
              "    </tr>\n",
              "    <tr>\n",
              "      <th>day_cos</th>\n",
              "      <td>145460.0</td>\n",
              "      <td>-1.413538e-17</td>\n",
              "      <td>1.000003</td>\n",
              "      <td>-1.392587</td>\n",
              "      <td>-1.055520</td>\n",
              "      <td>-0.044639</td>\n",
              "      <td>1.011221</td>\n",
              "      <td>1.455246</td>\n",
              "    </tr>\n",
              "  </tbody>\n",
              "</table>\n",
              "</div>\n",
              "    <div class=\"colab-df-buttons\">\n",
              "\n",
              "  <div class=\"colab-df-container\">\n",
              "    <button class=\"colab-df-convert\" onclick=\"convertToInteractive('df-420069fb-dd78-41dd-8157-ed77d475b020')\"\n",
              "            title=\"Convert this dataframe to an interactive table.\"\n",
              "            style=\"display:none;\">\n",
              "\n",
              "  <svg xmlns=\"http://www.w3.org/2000/svg\" height=\"24px\" viewBox=\"0 -960 960 960\">\n",
              "    <path d=\"M120-120v-720h720v720H120Zm60-500h600v-160H180v160Zm220 220h160v-160H400v160Zm0 220h160v-160H400v160ZM180-400h160v-160H180v160Zm440 0h160v-160H620v160ZM180-180h160v-160H180v160Zm440 0h160v-160H620v160Z\"/>\n",
              "  </svg>\n",
              "    </button>\n",
              "\n",
              "  <style>\n",
              "    .colab-df-container {\n",
              "      display:flex;\n",
              "      gap: 12px;\n",
              "    }\n",
              "\n",
              "    .colab-df-convert {\n",
              "      background-color: #E8F0FE;\n",
              "      border: none;\n",
              "      border-radius: 50%;\n",
              "      cursor: pointer;\n",
              "      display: none;\n",
              "      fill: #1967D2;\n",
              "      height: 32px;\n",
              "      padding: 0 0 0 0;\n",
              "      width: 32px;\n",
              "    }\n",
              "\n",
              "    .colab-df-convert:hover {\n",
              "      background-color: #E2EBFA;\n",
              "      box-shadow: 0px 1px 2px rgba(60, 64, 67, 0.3), 0px 1px 3px 1px rgba(60, 64, 67, 0.15);\n",
              "      fill: #174EA6;\n",
              "    }\n",
              "\n",
              "    .colab-df-buttons div {\n",
              "      margin-bottom: 4px;\n",
              "    }\n",
              "\n",
              "    [theme=dark] .colab-df-convert {\n",
              "      background-color: #3B4455;\n",
              "      fill: #D2E3FC;\n",
              "    }\n",
              "\n",
              "    [theme=dark] .colab-df-convert:hover {\n",
              "      background-color: #434B5C;\n",
              "      box-shadow: 0px 1px 3px 1px rgba(0, 0, 0, 0.15);\n",
              "      filter: drop-shadow(0px 1px 2px rgba(0, 0, 0, 0.3));\n",
              "      fill: #FFFFFF;\n",
              "    }\n",
              "  </style>\n",
              "\n",
              "    <script>\n",
              "      const buttonEl =\n",
              "        document.querySelector('#df-420069fb-dd78-41dd-8157-ed77d475b020 button.colab-df-convert');\n",
              "      buttonEl.style.display =\n",
              "        google.colab.kernel.accessAllowed ? 'block' : 'none';\n",
              "\n",
              "      async function convertToInteractive(key) {\n",
              "        const element = document.querySelector('#df-420069fb-dd78-41dd-8157-ed77d475b020');\n",
              "        const dataTable =\n",
              "          await google.colab.kernel.invokeFunction('convertToInteractive',\n",
              "                                                    [key], {});\n",
              "        if (!dataTable) return;\n",
              "\n",
              "        const docLinkHtml = 'Like what you see? Visit the ' +\n",
              "          '<a target=\"_blank\" href=https://colab.research.google.com/notebooks/data_table.ipynb>data table notebook</a>'\n",
              "          + ' to learn more about interactive tables.';\n",
              "        element.innerHTML = '';\n",
              "        dataTable['output_type'] = 'display_data';\n",
              "        await google.colab.output.renderOutput(dataTable, element);\n",
              "        const docLink = document.createElement('div');\n",
              "        docLink.innerHTML = docLinkHtml;\n",
              "        element.appendChild(docLink);\n",
              "      }\n",
              "    </script>\n",
              "  </div>\n",
              "\n",
              "\n",
              "    <div id=\"df-fda7abe7-e47a-4d5c-bd11-1919a993daa4\">\n",
              "      <button class=\"colab-df-quickchart\" onclick=\"quickchart('df-fda7abe7-e47a-4d5c-bd11-1919a993daa4')\"\n",
              "                title=\"Suggest charts\"\n",
              "                style=\"display:none;\">\n",
              "\n",
              "<svg xmlns=\"http://www.w3.org/2000/svg\" height=\"24px\"viewBox=\"0 0 24 24\"\n",
              "     width=\"24px\">\n",
              "    <g>\n",
              "        <path d=\"M19 3H5c-1.1 0-2 .9-2 2v14c0 1.1.9 2 2 2h14c1.1 0 2-.9 2-2V5c0-1.1-.9-2-2-2zM9 17H7v-7h2v7zm4 0h-2V7h2v10zm4 0h-2v-4h2v4z\"/>\n",
              "    </g>\n",
              "</svg>\n",
              "      </button>\n",
              "\n",
              "<style>\n",
              "  .colab-df-quickchart {\n",
              "      --bg-color: #E8F0FE;\n",
              "      --fill-color: #1967D2;\n",
              "      --hover-bg-color: #E2EBFA;\n",
              "      --hover-fill-color: #174EA6;\n",
              "      --disabled-fill-color: #AAA;\n",
              "      --disabled-bg-color: #DDD;\n",
              "  }\n",
              "\n",
              "  [theme=dark] .colab-df-quickchart {\n",
              "      --bg-color: #3B4455;\n",
              "      --fill-color: #D2E3FC;\n",
              "      --hover-bg-color: #434B5C;\n",
              "      --hover-fill-color: #FFFFFF;\n",
              "      --disabled-bg-color: #3B4455;\n",
              "      --disabled-fill-color: #666;\n",
              "  }\n",
              "\n",
              "  .colab-df-quickchart {\n",
              "    background-color: var(--bg-color);\n",
              "    border: none;\n",
              "    border-radius: 50%;\n",
              "    cursor: pointer;\n",
              "    display: none;\n",
              "    fill: var(--fill-color);\n",
              "    height: 32px;\n",
              "    padding: 0;\n",
              "    width: 32px;\n",
              "  }\n",
              "\n",
              "  .colab-df-quickchart:hover {\n",
              "    background-color: var(--hover-bg-color);\n",
              "    box-shadow: 0 1px 2px rgba(60, 64, 67, 0.3), 0 1px 3px 1px rgba(60, 64, 67, 0.15);\n",
              "    fill: var(--button-hover-fill-color);\n",
              "  }\n",
              "\n",
              "  .colab-df-quickchart-complete:disabled,\n",
              "  .colab-df-quickchart-complete:disabled:hover {\n",
              "    background-color: var(--disabled-bg-color);\n",
              "    fill: var(--disabled-fill-color);\n",
              "    box-shadow: none;\n",
              "  }\n",
              "\n",
              "  .colab-df-spinner {\n",
              "    border: 2px solid var(--fill-color);\n",
              "    border-color: transparent;\n",
              "    border-bottom-color: var(--fill-color);\n",
              "    animation:\n",
              "      spin 1s steps(1) infinite;\n",
              "  }\n",
              "\n",
              "  @keyframes spin {\n",
              "    0% {\n",
              "      border-color: transparent;\n",
              "      border-bottom-color: var(--fill-color);\n",
              "      border-left-color: var(--fill-color);\n",
              "    }\n",
              "    20% {\n",
              "      border-color: transparent;\n",
              "      border-left-color: var(--fill-color);\n",
              "      border-top-color: var(--fill-color);\n",
              "    }\n",
              "    30% {\n",
              "      border-color: transparent;\n",
              "      border-left-color: var(--fill-color);\n",
              "      border-top-color: var(--fill-color);\n",
              "      border-right-color: var(--fill-color);\n",
              "    }\n",
              "    40% {\n",
              "      border-color: transparent;\n",
              "      border-right-color: var(--fill-color);\n",
              "      border-top-color: var(--fill-color);\n",
              "    }\n",
              "    60% {\n",
              "      border-color: transparent;\n",
              "      border-right-color: var(--fill-color);\n",
              "    }\n",
              "    80% {\n",
              "      border-color: transparent;\n",
              "      border-right-color: var(--fill-color);\n",
              "      border-bottom-color: var(--fill-color);\n",
              "    }\n",
              "    90% {\n",
              "      border-color: transparent;\n",
              "      border-bottom-color: var(--fill-color);\n",
              "    }\n",
              "  }\n",
              "</style>\n",
              "\n",
              "      <script>\n",
              "        async function quickchart(key) {\n",
              "          const quickchartButtonEl =\n",
              "            document.querySelector('#' + key + ' button');\n",
              "          quickchartButtonEl.disabled = true;  // To prevent multiple clicks.\n",
              "          quickchartButtonEl.classList.add('colab-df-spinner');\n",
              "          try {\n",
              "            const charts = await google.colab.kernel.invokeFunction(\n",
              "                'suggestCharts', [key], {});\n",
              "          } catch (error) {\n",
              "            console.error('Error during call to suggestCharts:', error);\n",
              "          }\n",
              "          quickchartButtonEl.classList.remove('colab-df-spinner');\n",
              "          quickchartButtonEl.classList.add('colab-df-quickchart-complete');\n",
              "        }\n",
              "        (() => {\n",
              "          let quickchartButtonEl =\n",
              "            document.querySelector('#df-fda7abe7-e47a-4d5c-bd11-1919a993daa4 button');\n",
              "          quickchartButtonEl.style.display =\n",
              "            google.colab.kernel.accessAllowed ? 'block' : 'none';\n",
              "        })();\n",
              "      </script>\n",
              "    </div>\n",
              "\n",
              "    </div>\n",
              "  </div>\n"
            ],
            "application/vnd.google.colaboratory.intrinsic+json": {
              "type": "dataframe",
              "summary": "{\n  \"name\": \"features\",\n  \"rows\": 26,\n  \"fields\": [\n    {\n      \"column\": \"count\",\n      \"properties\": {\n        \"dtype\": \"number\",\n        \"std\": 0.0,\n        \"min\": 145460.0,\n        \"max\": 145460.0,\n        \"num_unique_values\": 1,\n        \"samples\": [\n          145460.0\n        ],\n        \"semantic_type\": \"\",\n        \"description\": \"\"\n      }\n    },\n    {\n      \"column\": \"mean\",\n      \"properties\": {\n        \"dtype\": \"number\",\n        \"std\": 4.1691161570833194e-15,\n        \"min\": -5.424079841798537e-16,\n        \"max\": 2.080220591776799e-14,\n        \"num_unique_values\": 25,\n        \"samples\": [\n          8.284617625801801e-17\n        ],\n        \"semantic_type\": \"\",\n        \"description\": \"\"\n      }\n    },\n    {\n      \"column\": \"std\",\n      \"properties\": {\n        \"dtype\": \"number\",\n        \"std\": 3.729193309269177e-13,\n        \"min\": 1.0000034373879771,\n        \"max\": 1.0000034373898603,\n        \"num_unique_values\": 26,\n        \"samples\": [\n          1.0000034373889877\n        ],\n        \"semantic_type\": \"\",\n        \"description\": \"\"\n      }\n    },\n    {\n      \"column\": \"min\",\n      \"properties\": {\n        \"dtype\": \"number\",\n        \"std\": 1.3515734121493002,\n        \"min\": -5.724831710631695,\n        \"max\": -0.2750966352687771,\n        \"num_unique_values\": 26,\n        \"samples\": [\n          -1.5499997301819477\n        ],\n        \"semantic_type\": \"\",\n        \"description\": \"\"\n      }\n    },\n    {\n      \"column\": \"25%\",\n      \"properties\": {\n        \"dtype\": \"number\",\n        \"std\": 0.25944785092968486,\n        \"min\": -1.1989786518403394,\n        \"max\": 0.07618832071350402,\n        \"num_unique_values\": 26,\n        \"samples\": [\n          -0.8856691129583744\n        ],\n        \"semantic_type\": \"\",\n        \"description\": \"\"\n      }\n    },\n    {\n      \"column\": \"50%\",\n      \"properties\": {\n        \"dtype\": \"number\",\n        \"std\": 0.14363751328668042,\n        \"min\": -0.5297954500338435,\n        \"max\": 0.19309379913265032,\n        \"num_unique_values\": 26,\n        \"samples\": [\n          0.00010504333972329564\n        ],\n        \"semantic_type\": \"\",\n        \"description\": \"\"\n      }\n    },\n    {\n      \"column\": \"75%\",\n      \"properties\": {\n        \"dtype\": \"number\",\n        \"std\": 0.3672506093296909,\n        \"min\": -0.5297954500338435,\n        \"max\": 1.0452284730857109,\n        \"num_unique_values\": 26,\n        \"samples\": [\n          0.885879199637821\n        ],\n        \"semantic_type\": \"\",\n        \"description\": \"\"\n      }\n    },\n    {\n      \"column\": \"max\",\n      \"properties\": {\n        \"dtype\": \"number\",\n        \"std\": 11.393930964948812,\n        \"min\": 1.396744094370207,\n        \"max\": 43.9851080520766,\n        \"num_unique_values\": 26,\n        \"samples\": [\n          1.7716533559359187\n        ],\n        \"semantic_type\": \"\",\n        \"description\": \"\"\n      }\n    }\n  ]\n}"
            }
          },
          "metadata": {},
          "execution_count": 19
        }
      ],
      "source": [
        "# Prepairing attributes of scale data\n",
        "\n",
        "features = data.drop(['RainTomorrow', 'Date','day', 'month'], axis=1) # dropping target and extra columns\n",
        "\n",
        "target = data['RainTomorrow']\n",
        "\n",
        "#Set up a standard scaler for the features\n",
        "col_names = list(features.columns)\n",
        "s_scaler = preprocessing.StandardScaler()\n",
        "features = s_scaler.fit_transform(features)\n",
        "features = pd.DataFrame(features, columns=col_names)\n",
        "\n",
        "features.describe().T"
      ]
    },
    {
      "cell_type": "code",
      "execution_count": 20,
      "metadata": {
        "colab": {
          "base_uri": "https://localhost:8080/",
          "height": 874
        },
        "execution": {
          "iopub.execute_input": "2025-05-11T19:00:44.724861Z",
          "iopub.status.busy": "2025-05-11T19:00:44.724337Z",
          "iopub.status.idle": "2025-05-11T19:00:47.077639Z",
          "shell.execute_reply": "2025-05-11T19:00:47.076210Z",
          "shell.execute_reply.started": "2025-05-11T19:00:44.724805Z"
        },
        "id": "DbPAGU7VxXN9",
        "outputId": "82d25e02-f2d6-4385-9dea-5f675c4f98b1",
        "trusted": true
      },
      "outputs": [
        {
          "output_type": "stream",
          "name": "stderr",
          "text": [
            "<ipython-input-20-6d42aad80754>:5: UserWarning: \n",
            "The palette list has fewer values (5) than needed (26) and will cycle, which may produce an uninterpretable plot.\n",
            "  sns.boxenplot(data = features,palette = colours)\n"
          ]
        },
        {
          "output_type": "display_data",
          "data": {
            "text/plain": [
              "<Figure size 2000x1000 with 1 Axes>"
            ],
            "image/png": "[encoded data removed]"
          },
          "metadata": {}
        }
      ],
      "source": [
        "#Detecting outliers\n",
        "#looking at the scaled features\n",
        "colours = [\"#D0DBEE\", \"#C2C4E2\", \"#EED4E5\", \"#D1E6DC\", \"#BDE2E2\"]\n",
        "plt.figure(figsize=(20,10))\n",
        "sns.boxenplot(data = features,palette = colours)\n",
        "plt.xticks(rotation=90)\n",
        "plt.show()"
      ]
    },
    {
      "cell_type": "code",
      "execution_count": 21,
      "metadata": {
        "colab": {
          "base_uri": "https://localhost:8080/"
        },
        "execution": {
          "iopub.execute_input": "2025-05-11T19:00:47.080027Z",
          "iopub.status.busy": "2025-05-11T19:00:47.079545Z",
          "iopub.status.idle": "2025-05-11T19:00:47.291368Z",
          "shell.execute_reply": "2025-05-11T19:00:47.290021Z",
          "shell.execute_reply.started": "2025-05-11T19:00:47.079979Z"
        },
        "id": "MRqysVVDxXN9",
        "outputId": "b1760d65-eea6-4108-dcf0-1f61aee9fbe0",
        "trusted": true
      },
      "outputs": [
        {
          "output_type": "execute_result",
          "data": {
            "text/plain": [
              "(127536, 27)"
            ]
          },
          "metadata": {},
          "execution_count": 21
        }
      ],
      "source": [
        "#full data for\n",
        "features[\"RainTomorrow\"] = target\n",
        "\n",
        "#Dropping with outlier\n",
        "\n",
        "features = features[(features[\"MinTemp\"]<2.3)&(features[\"MinTemp\"]>-2.3)]\n",
        "features = features[(features[\"MaxTemp\"]<2.3)&(features[\"MaxTemp\"]>-2)]\n",
        "features = features[(features[\"Rainfall\"]<4.5)]\n",
        "features = features[(features[\"Evaporation\"]<2.8)]\n",
        "features = features[(features[\"Sunshine\"]<2.1)]\n",
        "features = features[(features[\"WindGustSpeed\"]<4)&(features[\"WindGustSpeed\"]>-4)]\n",
        "features = features[(features[\"WindSpeed9am\"]<4)]\n",
        "features = features[(features[\"WindSpeed3pm\"]<2.5)]\n",
        "features = features[(features[\"Humidity9am\"]>-3)]\n",
        "features = features[(features[\"Humidity3pm\"]>-2.2)]\n",
        "features = features[(features[\"Pressure9am\"]< 2)&(features[\"Pressure9am\"]>-2.7)]\n",
        "features = features[(features[\"Pressure3pm\"]< 2)&(features[\"Pressure3pm\"]>-2.7)]\n",
        "features = features[(features[\"Cloud9am\"]<1.8)]\n",
        "features = features[(features[\"Cloud3pm\"]<2)]\n",
        "features = features[(features[\"Temp9am\"]<2.3)&(features[\"Temp9am\"]>-2)]\n",
        "features = features[(features[\"Temp3pm\"]<2.3)&(features[\"Temp3pm\"]>-2)]\n",
        "\n",
        "\n",
        "features.shape"
      ]
    },
    {
      "cell_type": "code",
      "execution_count": 22,
      "metadata": {
        "colab": {
          "base_uri": "https://localhost:8080/",
          "height": 873
        },
        "execution": {
          "iopub.execute_input": "2025-05-11T19:00:47.293119Z",
          "iopub.status.busy": "2025-05-11T19:00:47.292612Z",
          "iopub.status.idle": "2025-05-11T19:00:49.230082Z",
          "shell.execute_reply": "2025-05-11T19:00:49.228951Z",
          "shell.execute_reply.started": "2025-05-11T19:00:47.293025Z"
        },
        "id": "YDYoC-02xXN9",
        "outputId": "6710e549-b26d-4930-9487-7aee40438d01",
        "trusted": true
      },
      "outputs": [
        {
          "output_type": "stream",
          "name": "stderr",
          "text": [
            "<ipython-input-22-0b9d7aa52ee8>:4: UserWarning: \n",
            "The palette list has fewer values (5) than needed (27) and will cycle, which may produce an uninterpretable plot.\n",
            "  sns.boxenplot(data = features,palette = colours)\n"
          ]
        },
        {
          "output_type": "display_data",
          "data": {
            "text/plain": [
              "<Figure size 2000x1000 with 1 Axes>"
            ],
            "image/png": "[encoded data removed]"
          },
          "metadata": {}
        }
      ],
      "source": [
        "#looking at the scaled features without outliers\n",
        "\n",
        "plt.figure(figsize=(20,10))\n",
        "sns.boxenplot(data = features,palette = colours)\n",
        "plt.xticks(rotation=90)\n",
        "plt.show()"
      ]
    },
    {
      "cell_type": "markdown",
      "metadata": {
        "id": "FPi6B7NWxXN-"
      },
      "source": [
        "Looks Good. Up next is building artificial neural network."
      ]
    },
    {
      "cell_type": "markdown",
      "metadata": {
        "id": "oDIkCUPKxXN-"
      },
      "source": [
        "\n",
        " # MODEL BUILDING\n",
        "\n",
        "\n",
        "**In this project, we build an artificial neural network.**\n",
        "\n",
        "**Following steps are involved in the model building**\n",
        "\n",
        "* Assining X and y the status of attributes and tags\n",
        "* Splitting test and training sets\n",
        "* Initialising the neural network\n",
        "* Defining by adding layers\n",
        "* Compiling the neural network\n",
        "* Train the neural network"
      ]
    },
    {
      "cell_type": "code",
      "execution_count": 23,
      "metadata": {
        "colab": {
          "base_uri": "https://localhost:8080/"
        },
        "execution": {
          "iopub.execute_input": "2025-05-11T19:00:49.231589Z",
          "iopub.status.busy": "2025-05-11T19:00:49.231265Z",
          "iopub.status.idle": "2025-05-11T19:00:49.281494Z",
          "shell.execute_reply": "2025-05-11T19:00:49.280332Z",
          "shell.execute_reply.started": "2025-05-11T19:00:49.231554Z"
        },
        "id": "SkG4sfKPxXN-",
        "outputId": "ceb7a363-18ca-4473-e692-0221fb090bac",
        "trusted": true
      },
      "outputs": [
        {
          "output_type": "execute_result",
          "data": {
            "text/plain": [
              "(127536, 26)"
            ]
          },
          "metadata": {},
          "execution_count": 23
        }
      ],
      "source": [
        "X = features.drop([\"RainTomorrow\"], axis=1)\n",
        "y = features[\"RainTomorrow\"]\n",
        "\n",
        "# Splitting test and training sets\n",
        "X_train, X_test, y_train, y_test = train_test_split(X, y, test_size = 0.2, random_state = 42)\n",
        "\n",
        "X.shape"
      ]
    },
    {
      "cell_type": "code",
      "source": [
        "class_weights = class_weight.compute_class_weight(\n",
        "    class_weight='balanced',\n",
        "    classes=np.unique(y_train),\n",
        "    y=y_train\n",
        ")\n",
        "class_weights = dict(enumerate(class_weights))"
      ],
      "metadata": {
        "id": "OxxopAXeja6u"
      },
      "execution_count": 45,
      "outputs": []
    },
    {
      "cell_type": "code",
      "execution_count": 46,
      "metadata": {
        "_kg_hide-output": true,
        "colab": {
          "base_uri": "https://localhost:8080/"
        },
        "execution": {
          "iopub.execute_input": "2025-05-11T19:00:49.283082Z",
          "iopub.status.busy": "2025-05-11T19:00:49.282786Z",
          "iopub.status.idle": "2025-05-11T19:05:55.971395Z",
          "shell.execute_reply": "2025-05-11T19:05:55.970178Z",
          "shell.execute_reply.started": "2025-05-11T19:00:49.283054Z"
        },
        "id": "87uJcf52xXN-",
        "outputId": "6214e63e-0395-47de-bbc2-e73a6d2956ab",
        "trusted": true
      },
      "outputs": [
        {
          "output_type": "stream",
          "name": "stderr",
          "text": [
            "/usr/local/lib/python3.11/dist-packages/keras/src/layers/core/dense.py:87: UserWarning: Do not pass an `input_shape`/`input_dim` argument to a layer. When using Sequential models, prefer using an `Input(shape)` object as the first layer in the model instead.\n",
            "  super().__init__(activity_regularizer=activity_regularizer, **kwargs)\n"
          ]
        },
        {
          "output_type": "stream",
          "name": "stdout",
          "text": [
            "Epoch 1/150\n",
            "\u001b[1m1276/1276\u001b[0m \u001b[32m━━━━━━━━━━━━━━━━━━━━\u001b[0m\u001b[37m\u001b[0m \u001b[1m9s\u001b[0m 4ms/step - accuracy: 0.5901 - auc_3: 0.6831 - loss: 0.8038 - val_accuracy: 0.7640 - val_auc_3: 0.8455 - val_loss: 0.6097\n",
            "Epoch 2/150\n",
            "\u001b[1m1276/1276\u001b[0m \u001b[32m━━━━━━━━━━━━━━━━━━━━\u001b[0m\u001b[37m\u001b[0m \u001b[1m10s\u001b[0m 4ms/step - accuracy: 0.7643 - auc_3: 0.8265 - loss: 0.6300 - val_accuracy: 0.7727 - val_auc_3: 0.8542 - val_loss: 0.5646\n",
            "Epoch 3/150\n",
            "\u001b[1m1276/1276\u001b[0m \u001b[32m━━━━━━━━━━━━━━━━━━━━\u001b[0m\u001b[37m\u001b[0m \u001b[1m6s\u001b[0m 4ms/step - accuracy: 0.7805 - auc_3: 0.8439 - loss: 0.5782 - val_accuracy: 0.7742 - val_auc_3: 0.8578 - val_loss: 0.5289\n",
            "Epoch 4/150\n",
            "\u001b[1m1276/1276\u001b[0m \u001b[32m━━━━━━━━━━━━━━━━━━━━\u001b[0m\u001b[37m\u001b[0m \u001b[1m10s\u001b[0m 4ms/step - accuracy: 0.7821 - auc_3: 0.8475 - loss: 0.5526 - val_accuracy: 0.7863 - val_auc_3: 0.8584 - val_loss: 0.5095\n",
            "Epoch 5/150\n",
            "\u001b[1m1276/1276\u001b[0m \u001b[32m━━━━━━━━━━━━━━━━━━━━\u001b[0m\u001b[37m\u001b[0m \u001b[1m6s\u001b[0m 4ms/step - accuracy: 0.7833 - auc_3: 0.8480 - loss: 0.5357 - val_accuracy: 0.7773 - val_auc_3: 0.8613 - val_loss: 0.5069\n",
            "Epoch 6/150\n",
            "\u001b[1m1276/1276\u001b[0m \u001b[32m━━━━━━━━━━━━━━━━━━━━\u001b[0m\u001b[37m\u001b[0m \u001b[1m11s\u001b[0m 5ms/step - accuracy: 0.7845 - auc_3: 0.8518 - loss: 0.5232 - val_accuracy: 0.7802 - val_auc_3: 0.8622 - val_loss: 0.4951\n",
            "Epoch 7/150\n",
            "\u001b[1m1276/1276\u001b[0m \u001b[32m━━━━━━━━━━━━━━━━━━━━\u001b[0m\u001b[37m\u001b[0m \u001b[1m5s\u001b[0m 4ms/step - accuracy: 0.7881 - auc_3: 0.8518 - loss: 0.5167 - val_accuracy: 0.7978 - val_auc_3: 0.8640 - val_loss: 0.4635\n",
            "Epoch 8/150\n",
            "\u001b[1m1276/1276\u001b[0m \u001b[32m━━━━━━━━━━━━━━━━━━━━\u001b[0m\u001b[37m\u001b[0m \u001b[1m6s\u001b[0m 5ms/step - accuracy: 0.7915 - auc_3: 0.8547 - loss: 0.5078 - val_accuracy: 0.7842 - val_auc_3: 0.8644 - val_loss: 0.4923\n",
            "Epoch 9/150\n",
            "\u001b[1m1276/1276\u001b[0m \u001b[32m━━━━━━━━━━━━━━━━━━━━\u001b[0m\u001b[37m\u001b[0m \u001b[1m9s\u001b[0m 4ms/step - accuracy: 0.7927 - auc_3: 0.8558 - loss: 0.5033 - val_accuracy: 0.8022 - val_auc_3: 0.8648 - val_loss: 0.4631\n",
            "Epoch 10/150\n",
            "\u001b[1m1276/1276\u001b[0m \u001b[32m━━━━━━━━━━━━━━━━━━━━\u001b[0m\u001b[37m\u001b[0m \u001b[1m6s\u001b[0m 5ms/step - accuracy: 0.7954 - auc_3: 0.8561 - loss: 0.5027 - val_accuracy: 0.7926 - val_auc_3: 0.8659 - val_loss: 0.4699\n",
            "Epoch 11/150\n",
            "\u001b[1m1276/1276\u001b[0m \u001b[32m━━━━━━━━━━━━━━━━━━━━\u001b[0m\u001b[37m\u001b[0m \u001b[1m5s\u001b[0m 4ms/step - accuracy: 0.7922 - auc_3: 0.8565 - loss: 0.5016 - val_accuracy: 0.7818 - val_auc_3: 0.8652 - val_loss: 0.4846\n",
            "Epoch 12/150\n",
            "\u001b[1m1276/1276\u001b[0m \u001b[32m━━━━━━━━━━━━━━━━━━━━\u001b[0m\u001b[37m\u001b[0m \u001b[1m10s\u001b[0m 4ms/step - accuracy: 0.7904 - auc_3: 0.8610 - loss: 0.4953 - val_accuracy: 0.7947 - val_auc_3: 0.8675 - val_loss: 0.4629\n",
            "Epoch 13/150\n",
            "\u001b[1m1276/1276\u001b[0m \u001b[32m━━━━━━━━━━━━━━━━━━━━\u001b[0m\u001b[37m\u001b[0m \u001b[1m10s\u001b[0m 4ms/step - accuracy: 0.7931 - auc_3: 0.8600 - loss: 0.4930 - val_accuracy: 0.7947 - val_auc_3: 0.8679 - val_loss: 0.4676\n",
            "Epoch 14/150\n",
            "\u001b[1m1276/1276\u001b[0m \u001b[32m━━━━━━━━━━━━━━━━━━━━\u001b[0m\u001b[37m\u001b[0m \u001b[1m11s\u001b[0m 5ms/step - accuracy: 0.7912 - auc_3: 0.8608 - loss: 0.4923 - val_accuracy: 0.7909 - val_auc_3: 0.8680 - val_loss: 0.4808\n",
            "Epoch 15/150\n",
            "\u001b[1m1276/1276\u001b[0m \u001b[32m━━━━━━━━━━━━━━━━━━━━\u001b[0m\u001b[37m\u001b[0m \u001b[1m12s\u001b[0m 6ms/step - accuracy: 0.7951 - auc_3: 0.8600 - loss: 0.4935 - val_accuracy: 0.7755 - val_auc_3: 0.8680 - val_loss: 0.4877\n",
            "Epoch 16/150\n",
            "\u001b[1m1276/1276\u001b[0m \u001b[32m━━━━━━━━━━━━━━━━━━━━\u001b[0m\u001b[37m\u001b[0m \u001b[1m7s\u001b[0m 4ms/step - accuracy: 0.7899 - auc_3: 0.8617 - loss: 0.4918 - val_accuracy: 0.7872 - val_auc_3: 0.8686 - val_loss: 0.4720\n",
            "Epoch 17/150\n",
            "\u001b[1m1276/1276\u001b[0m \u001b[32m━━━━━━━━━━━━━━━━━━━━\u001b[0m\u001b[37m\u001b[0m \u001b[1m6s\u001b[0m 5ms/step - accuracy: 0.7899 - auc_3: 0.8592 - loss: 0.4963 - val_accuracy: 0.7955 - val_auc_3: 0.8675 - val_loss: 0.4667\n",
            "Epoch 18/150\n",
            "\u001b[1m1276/1276\u001b[0m \u001b[32m━━━━━━━━━━━━━━━━━━━━\u001b[0m\u001b[37m\u001b[0m \u001b[1m5s\u001b[0m 4ms/step - accuracy: 0.7914 - auc_3: 0.8604 - loss: 0.4943 - val_accuracy: 0.7975 - val_auc_3: 0.8681 - val_loss: 0.4647\n",
            "Epoch 19/150\n",
            "\u001b[1m1276/1276\u001b[0m \u001b[32m━━━━━━━━━━━━━━━━━━━━\u001b[0m\u001b[37m\u001b[0m \u001b[1m6s\u001b[0m 4ms/step - accuracy: 0.7936 - auc_3: 0.8621 - loss: 0.4897 - val_accuracy: 0.7855 - val_auc_3: 0.8682 - val_loss: 0.4743\n",
            "Epoch 20/150\n",
            "\u001b[1m1276/1276\u001b[0m \u001b[32m━━━━━━━━━━━━━━━━━━━━\u001b[0m\u001b[37m\u001b[0m \u001b[1m10s\u001b[0m 4ms/step - accuracy: 0.7929 - auc_3: 0.8632 - loss: 0.4855 - val_accuracy: 0.7905 - val_auc_3: 0.8695 - val_loss: 0.4774\n",
            "Epoch 21/150\n",
            "\u001b[1m1276/1276\u001b[0m \u001b[32m━━━━━━━━━━━━━━━━━━━━\u001b[0m\u001b[37m\u001b[0m \u001b[1m10s\u001b[0m 4ms/step - accuracy: 0.7897 - auc_3: 0.8617 - loss: 0.4886 - val_accuracy: 0.7717 - val_auc_3: 0.8692 - val_loss: 0.4842\n",
            "Epoch 22/150\n",
            "\u001b[1m1276/1276\u001b[0m \u001b[32m━━━━━━━━━━━━━━━━━━━━\u001b[0m\u001b[37m\u001b[0m \u001b[1m7s\u001b[0m 5ms/step - accuracy: 0.7860 - auc_3: 0.8613 - loss: 0.4910 - val_accuracy: 0.7786 - val_auc_3: 0.8695 - val_loss: 0.4802\n",
            "Epoch 23/150\n",
            "\u001b[1m1276/1276\u001b[0m \u001b[32m━━━━━━━━━━━━━━━━━━━━\u001b[0m\u001b[37m\u001b[0m \u001b[1m5s\u001b[0m 4ms/step - accuracy: 0.7885 - auc_3: 0.8646 - loss: 0.4873 - val_accuracy: 0.7838 - val_auc_3: 0.8692 - val_loss: 0.4634\n",
            "Epoch 24/150\n",
            "\u001b[1m1276/1276\u001b[0m \u001b[32m━━━━━━━━━━━━━━━━━━━━\u001b[0m\u001b[37m\u001b[0m \u001b[1m6s\u001b[0m 5ms/step - accuracy: 0.7884 - auc_3: 0.8637 - loss: 0.4867 - val_accuracy: 0.7935 - val_auc_3: 0.8697 - val_loss: 0.4684\n",
            "Epoch 25/150\n",
            "\u001b[1m1276/1276\u001b[0m \u001b[32m━━━━━━━━━━━━━━━━━━━━\u001b[0m\u001b[37m\u001b[0m \u001b[1m5s\u001b[0m 4ms/step - accuracy: 0.7914 - auc_3: 0.8636 - loss: 0.4860 - val_accuracy: 0.7901 - val_auc_3: 0.8689 - val_loss: 0.4727\n",
            "Epoch 26/150\n",
            "\u001b[1m1276/1276\u001b[0m \u001b[32m━━━━━━━━━━━━━━━━━━━━\u001b[0m\u001b[37m\u001b[0m \u001b[1m6s\u001b[0m 4ms/step - accuracy: 0.7876 - auc_3: 0.8601 - loss: 0.4936 - val_accuracy: 0.7813 - val_auc_3: 0.8700 - val_loss: 0.4765\n",
            "Epoch 27/150\n",
            "\u001b[1m1276/1276\u001b[0m \u001b[32m━━━━━━━━━━━━━━━━━━━━\u001b[0m\u001b[37m\u001b[0m \u001b[1m5s\u001b[0m 4ms/step - accuracy: 0.7908 - auc_3: 0.8640 - loss: 0.4853 - val_accuracy: 0.7777 - val_auc_3: 0.8700 - val_loss: 0.4731\n"
          ]
        }
      ],
      "source": [
        "#Early stopping\n",
        "early_stopping = callbacks.EarlyStopping(\n",
        "    min_delta=0.001, # minimium amount of change to count as an improvement\n",
        "    patience=20, # how many epochs to wait before stopping\n",
        "    restore_best_weights=True,\n",
        ")\n",
        "\n",
        "# Initialising the NN\n",
        "model = Sequential()\n",
        "\n",
        "# layers\n",
        "\n",
        "model.add(Dense(units = 32, kernel_initializer = 'he_normal',kernel_regularizer=regularizers.l2(0.001), activation = 'relu', input_dim = 26))\n",
        "model.add(Dense(units = 32, kernel_initializer = 'he_normal',kernel_regularizer=regularizers.l2(0.001), activation = 'relu'))\n",
        "model.add(Dense(units = 16, kernel_initializer = 'he_normal',kernel_regularizer=regularizers.l2(0.001), activation = 'relu'))\n",
        "model.add(Dropout(0.2))\n",
        "model.add(Dense(units = 8, kernel_initializer = 'he_normal',kernel_regularizer=regularizers.l2(0.001), activation = 'relu'))\n",
        "model.add(Dropout(0.3))\n",
        "model.add(Dense(units = 1, kernel_initializer = 'he_normal',kernel_regularizer=regularizers.l2(0.001), activation = 'sigmoid'))\n",
        "\n",
        "# Compiling the ANN\n",
        "opt = Adam(learning_rate=0.0005)\n",
        "model.compile(optimizer = opt, loss = 'binary_crossentropy', metrics = ['accuracy',AUC()])\n",
        "\n",
        "# Train the ANN\n",
        "history = model.fit(X_train, y_train, batch_size = 64, epochs = 150, callbacks=[early_stopping], validation_split=0.2,class_weight=class_weights)"
      ]
    },
    {
      "cell_type": "markdown",
      "metadata": {
        "id": "QpgZTS8CxXN-"
      },
      "source": [
        "Plotting training and validation loss over epochs"
      ]
    },
    {
      "cell_type": "code",
      "execution_count": 47,
      "metadata": {
        "colab": {
          "base_uri": "https://localhost:8080/",
          "height": 472
        },
        "execution": {
          "iopub.execute_input": "2025-05-11T19:05:55.973377Z",
          "iopub.status.busy": "2025-05-11T19:05:55.973049Z",
          "iopub.status.idle": "2025-05-11T19:05:56.158216Z",
          "shell.execute_reply": "2025-05-11T19:05:56.157281Z",
          "shell.execute_reply.started": "2025-05-11T19:05:55.973345Z"
        },
        "id": "LxSEs9DJxXN-",
        "outputId": "6d6c7d2a-cb4e-4d5a-92e4-438363461577",
        "trusted": true
      },
      "outputs": [
        {
          "output_type": "display_data",
          "data": {
            "text/plain": [
              "<Figure size 640x480 with 1 Axes>"
            ],
            "image/png": "[encoded data removed]"
          },
          "metadata": {}
        }
      ],
      "source": [
        "history_df = pd.DataFrame(history.history)\n",
        "\n",
        "plt.plot(history_df.loc[:, ['loss']], \"#BDE2E2\", label='Training loss')\n",
        "plt.plot(history_df.loc[:, ['val_loss']],\"#C2C4E2\", label='Validation loss')\n",
        "plt.title('Training and Validation loss')\n",
        "plt.xlabel('Epochs')\n",
        "plt.ylabel('Loss')\n",
        "plt.legend(loc=\"best\")\n",
        "\n",
        "plt.show()"
      ]
    },
    {
      "cell_type": "markdown",
      "metadata": {
        "id": "A7sZIqeuxXN-"
      },
      "source": [
        "Plotting training and validation accuracy over epochs"
      ]
    },
    {
      "cell_type": "code",
      "execution_count": 48,
      "metadata": {
        "colab": {
          "base_uri": "https://localhost:8080/",
          "height": 472
        },
        "execution": {
          "iopub.execute_input": "2025-05-11T19:05:56.159944Z",
          "iopub.status.busy": "2025-05-11T19:05:56.159563Z",
          "iopub.status.idle": "2025-05-11T19:05:56.369399Z",
          "shell.execute_reply": "2025-05-11T19:05:56.368170Z",
          "shell.execute_reply.started": "2025-05-11T19:05:56.159910Z"
        },
        "id": "83yOIlGPxXN-",
        "outputId": "8bcbf738-faf9-48d3-d640-8b0a43020ada",
        "trusted": true
      },
      "outputs": [
        {
          "output_type": "display_data",
          "data": {
            "text/plain": [
              "<Figure size 640x480 with 1 Axes>"
            ],
            "image/png": "[encoded data removed]"
          },
          "metadata": {}
        }
      ],
      "source": [
        "history_df = pd.DataFrame(history.history)\n",
        "\n",
        "plt.plot(history_df.loc[:, ['accuracy']], \"#BDE2E2\", label='Training accuracy')\n",
        "plt.plot(history_df.loc[:, ['val_accuracy']], \"#C2C4E2\", label='Validation accuracy')\n",
        "\n",
        "plt.title('Training and Validation accuracy')\n",
        "plt.xlabel('Epochs')\n",
        "plt.ylabel('Accuracy')\n",
        "plt.legend()\n",
        "plt.show()"
      ]
    },
    {
      "cell_type": "markdown",
      "metadata": {
        "id": "cuQRXNFkxXN_"
      },
      "source": [
        "# CONCLUSIONS\n",
        "\n",
        "\n",
        "**Concluding the model with:**\n",
        "\n",
        "* Testing on the test set\n",
        "* Evaluating the confusion matrix\n",
        "* Evaluating the classification report\n",
        "* Explaining the model with SHAP"
      ]
    },
    {
      "cell_type": "code",
      "execution_count": 49,
      "metadata": {
        "colab": {
          "base_uri": "https://localhost:8080/"
        },
        "execution": {
          "iopub.execute_input": "2025-05-11T19:05:56.371672Z",
          "iopub.status.busy": "2025-05-11T19:05:56.371319Z",
          "iopub.status.idle": "2025-05-11T19:05:57.089048Z",
          "shell.execute_reply": "2025-05-11T19:05:57.086201Z",
          "shell.execute_reply.started": "2025-05-11T19:05:56.371638Z"
        },
        "id": "-3lzQtotxXN_",
        "outputId": "eb99ff26-257b-4b69-e6ee-66881600b289",
        "trusted": true
      },
      "outputs": [
        {
          "output_type": "stream",
          "name": "stdout",
          "text": [
            "\u001b[1m798/798\u001b[0m \u001b[32m━━━━━━━━━━━━━━━━━━━━\u001b[0m\u001b[37m\u001b[0m \u001b[1m1s\u001b[0m 1ms/step\n"
          ]
        }
      ],
      "source": [
        "# Predicting the test set results\n",
        "y_pred = model.predict(X_test)\n",
        "y_pred = (y_pred > 0.5)"
      ]
    },
    {
      "cell_type": "code",
      "execution_count": 50,
      "metadata": {
        "colab": {
          "base_uri": "https://localhost:8080/",
          "height": 693
        },
        "execution": {
          "iopub.execute_input": "2025-05-11T19:05:57.092381Z",
          "iopub.status.busy": "2025-05-11T19:05:57.091549Z",
          "iopub.status.idle": "2025-05-11T19:05:57.452759Z",
          "shell.execute_reply": "2025-05-11T19:05:57.451621Z",
          "shell.execute_reply.started": "2025-05-11T19:05:57.092336Z"
        },
        "id": "rP5MRV9SxXN_",
        "outputId": "72bd75cf-f2a9-45e9-c489-1d46f532256b",
        "trusted": true
      },
      "outputs": [
        {
          "output_type": "execute_result",
          "data": {
            "text/plain": [
              "<Axes: >"
            ]
          },
          "metadata": {},
          "execution_count": 50
        },
        {
          "output_type": "display_data",
          "data": {
            "text/plain": [
              "<Figure size 1200x800 with 2 Axes>"
            ],
            "image/png": "[encoded data removed]"
          },
          "metadata": {}
        }
      ],
      "source": [
        "# confusion matrix\n",
        "cmap1 = sns.diverging_palette(260,-10,s=50, l=75, n=5, as_cmap=True)\n",
        "plt.subplots(figsize=(12,8))\n",
        "cf_matrix = confusion_matrix(y_test, y_pred)\n",
        "sns.heatmap(cf_matrix/np.sum(cf_matrix), cmap = cmap1, annot = True, annot_kws = {'size':15})"
      ]
    },
    {
      "cell_type": "code",
      "execution_count": 51,
      "metadata": {
        "colab": {
          "base_uri": "https://localhost:8080/"
        },
        "execution": {
          "iopub.execute_input": "2025-05-11T19:05:57.454453Z",
          "iopub.status.busy": "2025-05-11T19:05:57.454124Z",
          "iopub.status.idle": "2025-05-11T19:05:57.511618Z",
          "shell.execute_reply": "2025-05-11T19:05:57.510347Z",
          "shell.execute_reply.started": "2025-05-11T19:05:57.454417Z"
        },
        "id": "aRZZAFoPxXN_",
        "outputId": "c079e7b3-c7a4-49aa-d450-8c9c90384824",
        "trusted": true
      },
      "outputs": [
        {
          "output_type": "stream",
          "name": "stdout",
          "text": [
            "              precision    recall  f1-score   support\n",
            "\n",
            "           0       0.92      0.80      0.86     20110\n",
            "           1       0.51      0.76      0.61      5398\n",
            "\n",
            "    accuracy                           0.79     25508\n",
            "   macro avg       0.72      0.78      0.73     25508\n",
            "weighted avg       0.84      0.79      0.81     25508\n",
            "\n"
          ]
        }
      ],
      "source": [
        "print(classification_report(y_test, y_pred))"
      ]
    }
  ],
  "metadata": {
    "colab": {
      "provenance": []
    },
    "kaggle": {
      "accelerator": "none",
      "dataSources": [
        {
          "datasetId": 6012,
          "sourceId": 1733506,
          "sourceType": "datasetVersion"
        }
      ],
      "dockerImageVersionId": 30060,
      "isGpuEnabled": false,
      "isInternetEnabled": true,
      "language": "python",
      "sourceType": "notebook"
    },
    "kernelspec": {
      "display_name": "Python 3",
      "language": "python",
      "name": "python3"
    },
    "language_info": {
      "codemirror_mode": {
        "name": "ipython",
        "version": 3
      },
      "file_extension": ".py",
      "mimetype": "text/x-python",
      "name": "python",
      "nbconvert_exporter": "python",
      "pygments_lexer": "ipython3",
      "version": "3.7.9"
    }
  },
  "nbformat": 4,
  "nbformat_minor": 0
}