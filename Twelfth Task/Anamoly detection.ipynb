{
  "nbformat": 4,
  "nbformat_minor": 0,
  "metadata": {
    "colab": {
      "provenance": []
    },
    "kernelspec": {
      "name": "python3",
      "display_name": "Python 3"
    },
    "language_info": {
      "name": "python"
    }
  },
  "cells": [
    {
      "cell_type": "code",
      "execution_count": 1,
      "metadata": {
        "id": "U4vjYMbkoF8b"
      },
      "outputs": [],
      "source": [
        "import csv\n",
        "from collections import deque\n",
        "import statistics"
      ]
    },
    {
      "cell_type": "code",
      "source": [
        "def read_series(path, key):\n",
        "    series = []\n",
        "    with open(path, newline='') as f:\n",
        "        reader = csv.DictReader(f)\n",
        "        for row in reader:\n",
        "            series.append(float(row[key]))\n",
        "    return series\n",
        "\n",
        "def rolling_stats(series, window):\n",
        "    means = []\n",
        "    stds  = []\n",
        "    buf = deque(maxlen=window)\n",
        "    for x in series:\n",
        "        buf.append(x)\n",
        "        if len(buf) < window:\n",
        "            means.append(None)\n",
        "            stds.append(None)\n",
        "        else:\n",
        "            means.append(statistics.mean(buf))\n",
        "            stds.append(statistics.stdev(buf))\n",
        "    return means, stds\n",
        "\n",
        "def detect_anomalies(series, rolling_mu, rolling_sigma, z_thresh=3.0):\n",
        "    anomalies = []\n",
        "    for i, (x, mu, sigma) in enumerate(zip(series, rolling_mu, rolling_sigma)):\n",
        "        if mu is None or sigma is None or sigma == 0:\n",
        "            continue\n",
        "        z = (x - mu) / sigma\n",
        "        if abs(z) > z_thresh:\n",
        "            anomalies.append((i, x, z))\n",
        "    return anomalies\n",
        "\n",
        "if __name__ == \"__main__\":\n",
        "    path = \"/content/gemini_BTCUSD_2020_1min.csv\"\n",
        "    col  = \"Close\"\n",
        "    window = 20\n",
        "    z_thresh = 3.0\n",
        "\n",
        "    series = read_series(path, col)\n",
        "    mu, sigma = rolling_stats(series, window)\n",
        "    anomalies = detect_anomalies(series, mu, sigma, z_thresh)\n",
        "\n",
        "    print(f\"Found {len(anomalies)} anomalies in column '{col}':\")\n",
        "    for idx, val, z in anomalies:\n",
        "        print(f\"  Row {idx:4d}: value={val:.2f}, z_score={z:.2f}\")"
      ],
      "metadata": {
        "colab": {
          "base_uri": "https://localhost:8080/"
        },
        "id": "CZG5e8nZoNfx",
        "outputId": "58892329-34a9-478d-ad58-d542e87d19e1"
      },
      "execution_count": 3,
      "outputs": [
        {
          "output_type": "stream",
          "name": "stdout",
          "text": [
            "Found 79 anomalies in column 'Close':\n",
            "  Row  355: value=55868.23, z_score=3.34\n",
            "  Row  412: value=54949.35, z_score=-3.12\n",
            "  Row  468: value=54775.16, z_score=-3.09\n",
            "  Row 1118: value=56549.52, z_score=-3.33\n",
            "  Row 2131: value=54271.05, z_score=-3.34\n",
            "  Row 2163: value=53322.43, z_score=-3.13\n",
            "  Row 2401: value=56572.05, z_score=3.03\n",
            "  Row 2480: value=55000.00, z_score=-3.49\n",
            "  Row 2852: value=59400.00, z_score=-3.15\n",
            "  Row 3357: value=60073.04, z_score=-3.24\n",
            "  Row 3504: value=61010.93, z_score=-3.21\n",
            "  Row 3505: value=60949.78, z_score=-3.06\n",
            "  Row 3567: value=60749.28, z_score=-3.08\n",
            "  Row 4036: value=62160.00, z_score=-3.01\n",
            "  Row 4166: value=62219.56, z_score=-3.16\n",
            "  Row 4385: value=61756.49, z_score=3.15\n",
            "  Row 5067: value=60410.72, z_score=-3.29\n",
            "  Row 5305: value=61475.03, z_score=-3.19\n",
            "  Row 5366: value=61171.90, z_score=-3.40\n",
            "  Row 5487: value=62533.17, z_score=3.27\n",
            "  Row 6081: value=62928.75, z_score=3.19\n",
            "  Row 6886: value=63002.64, z_score=3.18\n",
            "  Row 7314: value=62616.02, z_score=-3.14\n",
            "  Row 7586: value=63368.50, z_score=3.12\n",
            "  Row 8110: value=63767.78, z_score=-3.06\n",
            "  Row 8153: value=64407.97, z_score=-3.36\n",
            "  Row 8266: value=64787.08, z_score=3.35\n",
            "  Row 8387: value=63817.05, z_score=3.08\n",
            "  Row 9786: value=60650.00, z_score=3.51\n",
            "  Row 9825: value=60563.34, z_score=3.13\n",
            "  Row 10040: value=60260.00, z_score=-3.17\n",
            "  Row 10822: value=60041.26, z_score=-3.25\n",
            "  Row 10827: value=59961.63, z_score=-3.11\n",
            "  Row 10828: value=59832.43, z_score=-3.29\n",
            "  Row 11962: value=59628.81, z_score=3.06\n",
            "  Row 12061: value=59527.72, z_score=-3.18\n",
            "  Row 12438: value=59829.78, z_score=-3.06\n",
            "  Row 13013: value=59226.17, z_score=-3.04\n",
            "  Row 13182: value=59616.97, z_score=3.09\n",
            "  Row 13437: value=60262.50, z_score=-3.03\n",
            "  Row 13667: value=60589.81, z_score=3.34\n",
            "  Row 13810: value=60602.84, z_score=-3.12\n",
            "  Row 14549: value=58390.96, z_score=-3.06\n",
            "  Row 14675: value=58215.20, z_score=-3.25\n",
            "  Row 15002: value=58663.34, z_score=3.06\n",
            "  Row 15221: value=58357.11, z_score=-3.07\n",
            "  Row 15583: value=58031.76, z_score=-3.25\n",
            "  Row 15760: value=58291.23, z_score=3.17\n",
            "  Row 15797: value=58389.99, z_score=3.22\n",
            "  Row 16255: value=57666.75, z_score=-3.61\n",
            "  Row 16891: value=57202.63, z_score=3.26\n",
            "  Row 17817: value=56683.08, z_score=-3.49\n",
            "  Row 17818: value=56632.43, z_score=-3.14\n",
            "  Row 17980: value=55807.77, z_score=-3.12\n",
            "  Row 18375: value=57830.35, z_score=-3.07\n",
            "  Row 18944: value=58223.02, z_score=-3.13\n",
            "  Row 18960: value=58152.38, z_score=-3.23\n",
            "  Row 19037: value=58052.61, z_score=-3.36\n",
            "  Row 19064: value=58080.35, z_score=-3.09\n",
            "  Row 19415: value=58770.01, z_score=-3.05\n",
            "  Row 19586: value=58532.43, z_score=-3.09\n",
            "  Row 19917: value=58638.14, z_score=-3.03\n",
            "  Row 20024: value=58656.21, z_score=-3.11\n",
            "  Row 20492: value=58773.75, z_score=-3.27\n",
            "  Row 20617: value=58864.50, z_score=-3.06\n",
            "  Row 20790: value=57811.24, z_score=-3.05\n",
            "  Row 20989: value=57546.97, z_score=3.07\n",
            "  Row 21052: value=57045.68, z_score=-3.08\n",
            "  Row 21273: value=57036.01, z_score=-3.02\n",
            "  Row 21340: value=57415.00, z_score=-3.00\n",
            "  Row 21630: value=58281.47, z_score=3.32\n",
            "  Row 22458: value=57547.97, z_score=-3.03\n",
            "  Row 23391: value=57861.40, z_score=-3.19\n",
            "  Row 23626: value=59415.28, z_score=3.22\n",
            "  Row 23925: value=59016.89, z_score=-3.23\n",
            "  Row 24639: value=58579.07, z_score=-3.59\n",
            "  Row 24640: value=58501.94, z_score=-3.31\n",
            "  Row 25581: value=59329.14, z_score=-3.30\n",
            "  Row 25845: value=58.00, z_score=-4.25\n"
          ]
        }
      ]
    },
    {
      "cell_type": "markdown",
      "source": [
        "* **read_series:** I pull out one numeric column (e.g. “Close” prices) and turn it into a Python list of floats.\n",
        "\n",
        "* **rolling_stats:** I keep a sliding window (deque) of the last N values (say, 20), and for each point I record the mean and standard deviation of that window.\n",
        "\n",
        "* **detect_anomalies:** I go through each data point, compute its z-score (how many sigmas away from the rolling mean), and if it exceeds our threshold (3 by default), I flag it."
      ],
      "metadata": {
        "id": "AVTsYqUSqLkc"
      }
    }
  ]
}